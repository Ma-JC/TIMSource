{
 "cells": [
  {
   "cell_type": "code",
   "execution_count": 1,
   "id": "d1e7a127",
   "metadata": {},
   "outputs": [
    {
     "name": "stderr",
     "output_type": "stream",
     "text": [
      "Loading required package: grid\n",
      "\n",
      "========================================\n",
      "ComplexHeatmap version 2.6.2\n",
      "Bioconductor page: http://bioconductor.org/packages/ComplexHeatmap/\n",
      "Github page: https://github.com/jokergoo/ComplexHeatmap\n",
      "Documentation: http://jokergoo.github.io/ComplexHeatmap-reference\n",
      "\n",
      "If you use it in published research, please cite:\n",
      "Gu, Z. Complex heatmaps reveal patterns and correlations in multidimensional \n",
      "  genomic data. Bioinformatics 2016.\n",
      "\n",
      "This message can be suppressed by:\n",
      "  suppressPackageStartupMessages(library(ComplexHeatmap))\n",
      "========================================\n",
      "\n",
      "\n",
      "Loading required package: ggpubr\n",
      "\n",
      "Loading required package: magrittr\n",
      "\n",
      "Loading required package: checkmate\n",
      "\n",
      "Registered S3 methods overwritten by 'lme4':\n",
      "  method                          from\n",
      "  cooks.distance.influence.merMod car \n",
      "  influence.merMod                car \n",
      "  dfbeta.influence.merMod         car \n",
      "  dfbetas.influence.merMod        car \n",
      "\n",
      "Loading 'meta' package (version 6.2-0).\n",
      "Type 'help(meta)' for a brief overview.\n",
      "Readers of 'Meta-Analysis with R (Use R!)' should install\n",
      "older version of 'meta' package: https://tinyurl.com/dt4y5drs\n",
      "\n",
      "\n",
      "Attaching package: ‘epitools’\n",
      "\n",
      "\n",
      "The following object is masked from ‘package:survival’:\n",
      "\n",
      "    ratetable\n",
      "\n",
      "\n"
     ]
    }
   ],
   "source": [
    "library(ggplot2)\n",
    "library(ComplexHeatmap)\n",
    "library(ggplot2)\n",
    "library(survival)\n",
    "library(survminer)\n",
    "library(forestplot)\n",
    "library(meta)\n",
    "library(epitools)"
   ]
  },
  {
   "cell_type": "code",
   "execution_count": 2,
   "id": "c159a402",
   "metadata": {},
   "outputs": [],
   "source": [
    "datasets = readRDS(\"/home/ncpsb//new_mnt/Other/jx/web/data/fast_explore/data/Refence_datasets_with_therapy.rds\")\n",
    "datasets_overview = read.csv(\"/home/ncpsb//new_mnt/Other/jx/web/data/fast_explore/data/datasets_overview.csv\",quote = \"\")\n",
    "ref_path_OS = readRDS(\"/home/ncpsb//new_mnt/Other/jx/web/data/fast_explore/result_data/ref_OS_total_survival_pm.rds\")\n",
    "ref_path_PFS = readRDS(\"/home/ncpsb//new_mnt/Other/jx/web/data/fast_explore/result_data/ref_PFS_total_survival_pm.rds\")\n",
    "datasets_names = read.csv(\"/home/ncpsb//new_mnt/Other/jx/web/data/fast_explore/data/dataset_name.csv\",header = F,row.names = 1)"
   ]
  },
  {
   "cell_type": "code",
   "execution_count": 3,
   "id": "96bbbf95",
   "metadata": {},
   "outputs": [],
   "source": [
    "colnames(datasets_names) = \"Cohort_name\"\n",
    "datasets_overview = cbind(datasets_names,datasets_overview)\n",
    "\n",
    "datasets_overview$OS = FALSE\n",
    "datasets_overview$PFS = FALSE\n",
    "datasets_overview$RECIST = FALSE\n",
    "datasets_overview$RESPONSE = FALSE\n",
    "datasets_overview$TMB = FALSE\n",
    "datasets_overview$RNA = FALSE\n",
    "for(i in rownames(datasets_overview)){\n",
    "    if( \"OS_TIME\" %in% colnames(datasets[[i]]) ){datasets_overview[i,\"OS\"] = TRUE}\n",
    "    if( \"PFS_TIME\" %in% colnames(datasets[[i]]) ){datasets_overview[i,\"PFS\"] = TRUE}\n",
    "    if( \"RECIST\" %in% colnames(datasets[[i]]) ){datasets_overview[i,\"RECIST\"] = TRUE}\n",
    "    if( \"RESPONSE\" %in% colnames(datasets[[i]]) ){datasets_overview[i,\"RESPONSE\"] = TRUE}\n",
    "    if( \"TMB\" %in% colnames(datasets[[i]]) ){datasets_overview[i,\"TMB\"] = TRUE}\n",
    "}\n",
    "\n",
    "datasets_overview[c(\"dataset2\",\"dataset6\",\"dataset8\",\"dataset10\",\"dataset11\",\"dataset12\",\"dataset13\",\"dataset14\",\"dataset20\"),\"RNA\"] = TRUE"
   ]
  },
  {
   "cell_type": "code",
   "execution_count": 4,
   "id": "80e20494",
   "metadata": {},
   "outputs": [],
   "source": [
    "# 这是旧版本dataset_overview的归纳\n",
    "datasets_overview$Cancer_type2 = datasets_overview$Cancer_type\n",
    "# datasets_overview$Cancer_type2[ datasets_overview$Cancer_type %in% \n",
    "#                                c(\"Renal Cell Carcinoma\",\"Renal Cell Carcinoma\",\"Clear cell renal cell carcinoma\")] = \"Renal Cell Carcinoma\"\n",
    "# datasets_overview$Cancer_type2[ datasets_overview$Cancer_type %in% \n",
    "#                                c(\"Bladder Cancer\",\"Urothelial cancer\")] = \"Urothelial Cancer\"\n",
    "# datasets_overview$Cancer_type2[ datasets_overview$Cancer_type %in% \n",
    "#                                c(\"Esophagogastric Cancer\",\"Gastrointestinal cancer\",\"Colorectal Cancer\",\"Gastric cancer\",\"Neuroendocrine neoplasms\",\"Gastrointestinal cancer\",\"Hepatocellular carcinoma\")] = \"Gastrointestinal Cancer\"\n",
    "# datasets_overview$Cancer_type2[ datasets_overview$Cancer_type %in% \n",
    "#                                c(\"Glioblastoma\",\"Glioma\")] = \"Glioblastoma\"\n",
    "datasets_overview$Cancer_type2[ datasets_overview$Cancer_type %in% \n",
    "                               c(\"Esophagogastric Cancer\",\"Colorectal Cancer\",\"Pan-GI cancer\",\"Neuroendocrine tumours\",\"Hepatocellular carcinoma\")] = \"Gastrointestinal Cancer\""
   ]
  },
  {
   "cell_type": "code",
   "execution_count": 5,
   "id": "41a6ed5e",
   "metadata": {},
   "outputs": [],
   "source": [
    "datasets_names$Cohort_name = gsub(pattern = \"[0-9]*\\\\. (.*).*\\\\(.*\",\"\\\\1\",datasets_names$Cohort_name)\n",
    "datasets_overview$Cohort_name = datasets_names$Cohort_name"
   ]
  },
  {
   "cell_type": "code",
   "execution_count": 6,
   "id": "2901a74f",
   "metadata": {},
   "outputs": [],
   "source": [
    "ref_single = readRDS(\"/home/ncpsb//new_mnt/Other/jx/web/data/fast_explore/result_data/ref_OS_total_survival.rds\")"
   ]
  },
  {
   "cell_type": "code",
   "execution_count": 7,
   "id": "e9e3c5c9",
   "metadata": {},
   "outputs": [],
   "source": [
    "dataset_meta = read.csv(\"/home/ncpsb/new_mnt/Other/jx/web/data/fast_explore/data/dataset_name.csv\",header = F)\n",
    "dataset_name = dataset_meta$V2\n",
    "names(dataset_name) = dataset_meta$V1\n",
    "dataset_name = gsub(pattern = \"[0-9]*\\\\. (.*).*\\\\(.*\",\"\\\\1\",dataset_name)"
   ]
  },
  {
   "cell_type": "markdown",
   "id": "1c6b508e",
   "metadata": {},
   "source": [
    "# 0.05"
   ]
  },
  {
   "cell_type": "markdown",
   "id": "77420cca",
   "metadata": {},
   "source": [
    "### OS"
   ]
  },
  {
   "cell_type": "code",
   "execution_count": 68,
   "id": "2cb06d2e",
   "metadata": {},
   "outputs": [],
   "source": [
    "ref_single_significant = list()\n",
    "\n",
    "for(i in rownames(datasets_overview)[datasets_overview$Sequencing == \"WES\"]){\n",
    "        \n",
    "        tmp2 = ref_path_OS[[i]]\n",
    "        tmp2[\"top_3_gene(mutation)\"] = NULL\n",
    "        tmp2 = as.data.frame(apply(tmp2,2,as.numeric))\n",
    "        rownames(tmp2) = rownames(ref_path_OS[[i]])\n",
    "        tmp2 = tmp2[!is.na(tmp2$`Patient(Mutation)`) & !is.na(tmp2$`Patient(Wildtype)`),]\n",
    "        less_num = floor(unique(rowSums(tmp2[,c(\"Patient(Mutation)\",\"Patient(Wildtype)\")])) * 0.05) # 两个组至少包含的患者数是总人数的5%\n",
    "        if(less_num <3){less_num = 3}\n",
    "        tmp = tmp2[ tmp2$`Patient(Mutation)` >= less_num & tmp2$`Patient(Wildtype)` >= less_num,]\n",
    "#         tmp = tmp[ tmp$`Log_rank_test(OS)`<0.05 | tmp$`Wald_test(OS)` < 0.05,]  # 筛选P值小于0.05\n",
    "        if(nrow(tmp) != 0){\n",
    "            tmp$dataset = i\n",
    "            tmp$Cancer_type = datasets_overview[i,\"Cancer_type\"]\n",
    "            tmp$Cancer_type2 = datasets_overview[i,\"Cancer_type2\"]\n",
    "            tmp$gene = rownames(tmp)\n",
    "        }  \n",
    "        ref_single_significant[[i]] = tmp\n",
    "}"
   ]
  },
  {
   "cell_type": "code",
   "execution_count": 69,
   "id": "9b56cd64",
   "metadata": {},
   "outputs": [],
   "source": [
    "tmp = vector()\n",
    "for(i in names(ref_single_significant)){\n",
    "    if(!i %in%  c(\"dataset5\",\"dataset7\",\"dataset13\",\"dataset16\",\"dataset1\",\"dataset3\",\"dataset6\") & nrow(ref_single_significant[[i]]) != 0){\n",
    "        tmp = rbind(tmp,ref_single_significant[[i]])\n",
    "    }\n",
    "    \n",
    "}"
   ]
  },
  {
   "cell_type": "code",
   "execution_count": 10,
   "id": "b73ff0ba",
   "metadata": {},
   "outputs": [],
   "source": [
    "tmp$RS = -log(x = tmp$`Wald_test(OS)`,20) * log10(tmp$`HR(OS)`)"
   ]
  },
  {
   "cell_type": "code",
   "execution_count": 11,
   "id": "57147a6f",
   "metadata": {},
   "outputs": [],
   "source": [
    "RS_matrix = reshape2::dcast(data = tmp[,c(\"dataset\",\"RS\",\"gene\")],formula = gene~dataset,value.var = \"RS\",fill = 0)\n",
    "rownames(RS_matrix) = RS_matrix$gene\n",
    "RS_matrix$gene = NULL"
   ]
  },
  {
   "cell_type": "code",
   "execution_count": 12,
   "id": "9494905c",
   "metadata": {},
   "outputs": [],
   "source": [
    "# 每个瘤种为一个单位，计算单瘤种的数据集鲁棒性,为了让具有更多的数据集的瘤种在计算得分时，具有更高的赋值，所以计算平均数据集得分后，会乘以一个同方向数据集个数\n",
    "for(i in unique(datasets_overview$Cancer_type2)){\n",
    "    tmp_datasets = rownames(datasets_overview)[ datasets_overview$Cancer_type2 %in% i]\n",
    "    tmp_datasets = intersect(tmp_datasets,colnames(RS_matrix))\n",
    "    RS_matrix[[i]] = apply(X = RS_matrix[tmp_datasets],1,function(x){\n",
    "        meanscore = mean(x[x !=0 ])\n",
    "        meanscore2 = ifelse(sign(meanscore) == 1, meanscore*sum(x > 0 ),\n",
    "                          ifelse(sign(meanscore) == -1,meanscore*sum(x < 0 ),0))\n",
    "        \n",
    "        return(meanscore2)\n",
    "    })\n",
    "    RS_matrix[[i]][is.na(RS_matrix[[i]])] = 0\n",
    "}\n",
    "\n",
    "for(i in unique(datasets_overview$Cancer_type2)){\n",
    "    tmp_datasets = rownames(datasets_overview)[ datasets_overview$Cancer_type2 %in% i]\n",
    "    tmp_datasets = intersect(tmp_datasets,colnames(RS_matrix))\n",
    "    seq_weight = ifelse(datasets_overview[tmp_datasets,\"Sequencing\"] == \"Panel\",0.5,1)\n",
    "    cn = paste(i,\"seq\",sep = \"_\")\n",
    "    RS_matrix[[cn]] = apply(X = RS_matrix[tmp_datasets],1,function(x){\n",
    "#         meanscore = sum(x[ x != 0 ] * seq_weight[ x != 0 ])/sum( x != 0)\n",
    "        meanscore = mean(x[x != 0 ])\n",
    "        meanscore2 = ifelse(sign(meanscore) == 1,meanscore*sum(seq_weight[x>0]),meanscore*sum(seq_weight[x<0]))\n",
    "        \n",
    "        return(meanscore2)\n",
    "    })\n",
    "    RS_matrix[[cn]][is.na(RS_matrix[[cn]])] = 0\n",
    "}"
   ]
  },
  {
   "cell_type": "code",
   "execution_count": 13,
   "id": "09857dd0",
   "metadata": {},
   "outputs": [],
   "source": [
    "# 简单的加和可能会导致某些在个别数据集上表现特别好的基因过分地增大了最后得分\n",
    "RS_matrix$MultiTumor_ALL_pan = apply(RS_matrix[,unique(datasets_overview$Cancer_type2)],1,function(x){\n",
    "    meanscore = mean(x)\n",
    "    ifelse(sign(meanscore) == 1,meanscore*sum(x>0),meanscore*sum(x<0))\n",
    "})\n",
    "\n",
    "RS_matrix$MultiTumor_ALL_pan_clean = apply(RS_matrix[,setdiff(unique(datasets_overview$Cancer_type2),c(\"Pan-cancer\",\"Microsatellite-stable solid tumors\"))],1,function(x){\n",
    "    meanscore = mean(x)\n",
    "    ifelse(sign(meanscore) == 1,meanscore*sum(x>0),meanscore*sum(x<0))\n",
    "})\n",
    "\n",
    "RS_matrix$MultiTumor_ALL_pan_seq = apply(RS_matrix[,paste(unique(datasets_overview$Cancer_type2),\"seq\",sep = \"_\")],1,function(x){\n",
    "    meanscore = mean(x)\n",
    "    ifelse(sign(meanscore) == 1,meanscore*sum(x>0),meanscore*sum(x<0))\n",
    "})\n",
    "\n",
    "RS_matrix$MultiTumor_ALL_pan_clean_seq = apply(RS_matrix[,setdiff(paste(unique(datasets_overview$Cancer_type2),\"seq\",sep = \"_\"),\n",
    "                                                              c(\"Pan-cancer_seq\",\"Microsatellite-stable solid tumors_seq\"))],1,function(x){\n",
    "    meanscore = mean(x)\n",
    "    ifelse(sign(meanscore) == 1,meanscore*sum(x>0),meanscore*sum(x<0))\n",
    "})"
   ]
  },
  {
   "cell_type": "code",
   "execution_count": 14,
   "id": "aba7306f",
   "metadata": {},
   "outputs": [],
   "source": [
    "RS_matrix = RS_matrix[ order(RS_matrix$MultiTumor_ALL_pan_clean,decreasing = F),]"
   ]
  },
  {
   "cell_type": "code",
   "execution_count": 16,
   "id": "be434078",
   "metadata": {},
   "outputs": [],
   "source": [
    "OS_RS_matrix = RS_matrix"
   ]
  },
  {
   "cell_type": "markdown",
   "id": "9a1b97b0",
   "metadata": {},
   "source": [
    "### PFS"
   ]
  },
  {
   "cell_type": "code",
   "execution_count": 17,
   "id": "89f4d1bc",
   "metadata": {},
   "outputs": [],
   "source": [
    "ref_single_significant = list()\n",
    "\n",
    "for(i in rownames(datasets_overview)[datasets_overview$Sequencing == \"WES\"]){\n",
    "        \n",
    "        tmp2 = ref_path_PFS[[i]]\n",
    "        tmp2[\"top_3_gene(mutation)\"] = NULL\n",
    "        tmp2 = as.data.frame(apply(tmp2,2,as.numeric))\n",
    "        rownames(tmp2) = rownames(ref_path_PFS[[i]])\n",
    "        tmp2 = tmp2[!is.na(tmp2$`Patient(Mutation)`) & !is.na(tmp2$`Patient(Wildtype)`),]\n",
    "        less_num = floor(unique(rowSums(tmp2[,c(\"Patient(Mutation)\",\"Patient(Wildtype)\")])) * 0.05) # 两个组至少包含的患者数是总人数的5%\n",
    "        if(less_num <3){less_num = 3}\n",
    "        tmp = tmp2[ tmp2$`Patient(Mutation)` >= less_num & tmp2$`Patient(Wildtype)` >= less_num,]\n",
    "#         tmp = tmp[ tmp$`Log_rank_test(OS)`<0.05 | tmp$`Wald_test(OS)` < 0.05,]  # 筛选P值小于0.05\n",
    "        if(nrow(tmp) != 0){\n",
    "            tmp$dataset = i\n",
    "            tmp$Cancer_type = datasets_overview[i,\"Cancer_type\"]\n",
    "            tmp$Cancer_type2 = datasets_overview[i,\"Cancer_type2\"]\n",
    "            tmp$gene = rownames(tmp)\n",
    "        }  \n",
    "        ref_single_significant[[i]] = tmp\n",
    "}"
   ]
  },
  {
   "cell_type": "code",
   "execution_count": 18,
   "id": "73761d5e",
   "metadata": {},
   "outputs": [],
   "source": [
    "tmp = vector()\n",
    "for(i in names(ref_single_significant)){\n",
    "    if(!i %in%  c(\"dataset1.1\",\"dataset1.2\",\"dataset1.3\",\"dataset1.4\",\"dataset1.5\",\"dataset1.6\",\"dataset1.7\",\"dataset1.8\",\"dataset1.9\",\n",
    "                        \"dataset1\",\"dataset8\",\"dataset10\",\"dataset11\",\"dataset1\",\"dataset3\",\"dataset6\") & nrow(ref_single_significant[[i]]) != 0){\n",
    "        tmp = rbind(tmp,ref_single_significant[[i]])\n",
    "    }\n",
    "    \n",
    "}"
   ]
  },
  {
   "cell_type": "code",
   "execution_count": 19,
   "id": "71731332",
   "metadata": {},
   "outputs": [],
   "source": [
    "tmp$RS = -log(x = tmp$`Wald_test(PFS)`,20) * log10(tmp$`HR(PFS)`)"
   ]
  },
  {
   "cell_type": "code",
   "execution_count": 20,
   "id": "1f848a66",
   "metadata": {},
   "outputs": [],
   "source": [
    "RS_matrix = reshape2::dcast(data = tmp[,c(\"dataset\",\"RS\",\"gene\")],formula = gene~dataset,value.var = \"RS\",fill = 0)\n",
    "rownames(RS_matrix) = RS_matrix$gene\n",
    "RS_matrix$gene = NULL"
   ]
  },
  {
   "cell_type": "code",
   "execution_count": 21,
   "id": "7e9572e9",
   "metadata": {},
   "outputs": [],
   "source": [
    "# 每个瘤种为一个单位，计算单瘤种的数据集鲁棒性,为了让具有更多的数据集的瘤种在计算得分时，具有更高的赋值，所以计算平均数据集得分后，会乘以一个同方向数据集个数\n",
    "for(i in unique(datasets_overview$Cancer_type2)){\n",
    "    tmp_datasets = rownames(datasets_overview)[ datasets_overview$Cancer_type2 %in% i]\n",
    "    tmp_datasets = intersect(tmp_datasets,colnames(RS_matrix))\n",
    "    RS_matrix[[i]] = apply(X = RS_matrix[tmp_datasets],1,function(x){\n",
    "        meanscore = mean(x[x !=0 ])\n",
    "        meanscore2 = ifelse(sign(meanscore) == 1, meanscore*sum(x > 0 ),\n",
    "                          ifelse(sign(meanscore) == -1,meanscore*sum(x < 0 ),0))\n",
    "        \n",
    "        return(meanscore2)\n",
    "    })\n",
    "    RS_matrix[[i]][is.na(RS_matrix[[i]])] = 0\n",
    "}\n",
    "\n",
    "for(i in unique(datasets_overview$Cancer_type2)){\n",
    "    tmp_datasets = rownames(datasets_overview)[ datasets_overview$Cancer_type2 %in% i]\n",
    "    tmp_datasets = intersect(tmp_datasets,colnames(RS_matrix))\n",
    "    seq_weight = ifelse(datasets_overview[tmp_datasets,\"Sequencing\"] == \"Panel\",0.5,1)\n",
    "    cn = paste(i,\"seq\",sep = \"_\")\n",
    "    RS_matrix[[cn]] = apply(X = RS_matrix[tmp_datasets],1,function(x){\n",
    "#         meanscore = sum(x[ x != 0 ] * seq_weight[ x != 0 ])/sum( x != 0)\n",
    "        meanscore = mean(x[x != 0 ])\n",
    "        meanscore2 = ifelse(sign(meanscore) == 1,meanscore*sum(seq_weight[x>0]),meanscore*sum(seq_weight[x<0]))\n",
    "        \n",
    "        return(meanscore2)\n",
    "    })\n",
    "    RS_matrix[[cn]][is.na(RS_matrix[[cn]])] = 0\n",
    "}"
   ]
  },
  {
   "cell_type": "code",
   "execution_count": 22,
   "id": "ccfd8870",
   "metadata": {},
   "outputs": [],
   "source": [
    "# 简单的加和可能会导致某些在个别数据集上表现特别好的基因过分地增大了最后得分\n",
    "RS_matrix$MultiTumor_ALL_pan = apply(RS_matrix[,unique(datasets_overview$Cancer_type2)],1,function(x){\n",
    "    meanscore = mean(x)\n",
    "    ifelse(sign(meanscore) == 1,meanscore*sum(x>0),meanscore*sum(x<0))\n",
    "})\n",
    "\n",
    "RS_matrix$MultiTumor_ALL_pan_clean = apply(RS_matrix[,setdiff(unique(datasets_overview$Cancer_type2),c(\"Pan-cancer\",\"Microsatellite-stable solid tumors\"))],1,function(x){\n",
    "    meanscore = mean(x)\n",
    "    ifelse(sign(meanscore) == 1,meanscore*sum(x>0),meanscore*sum(x<0))\n",
    "})\n",
    "\n",
    "RS_matrix$MultiTumor_ALL_pan_seq = apply(RS_matrix[,paste(unique(datasets_overview$Cancer_type2),\"seq\",sep = \"_\")],1,function(x){\n",
    "    meanscore = mean(x)\n",
    "    ifelse(sign(meanscore) == 1,meanscore*sum(x>0),meanscore*sum(x<0))\n",
    "})\n",
    "\n",
    "RS_matrix$MultiTumor_ALL_pan_clean_seq = apply(RS_matrix[,setdiff(paste(unique(datasets_overview$Cancer_type2),\"seq\",sep = \"_\"),\n",
    "                                                              c(\"Pan-cancer_seq\",\"Microsatellite-stable solid tumors_seq\"))],1,function(x){\n",
    "    meanscore = mean(x)\n",
    "    ifelse(sign(meanscore) == 1,meanscore*sum(x>0),meanscore*sum(x<0))\n",
    "})"
   ]
  },
  {
   "cell_type": "code",
   "execution_count": 23,
   "id": "649d5f4c",
   "metadata": {},
   "outputs": [],
   "source": [
    "RS_matrix = RS_matrix[ order(RS_matrix$MultiTumor_ALL_pan_clean,decreasing = F),]"
   ]
  },
  {
   "cell_type": "code",
   "execution_count": 25,
   "id": "d55a616d",
   "metadata": {},
   "outputs": [],
   "source": [
    "PFS_RS_matrix = RS_matrix"
   ]
  },
  {
   "cell_type": "code",
   "execution_count": 26,
   "id": "664cbf4c",
   "metadata": {},
   "outputs": [],
   "source": [
    "share_pathway = intersect(rownames(OS_RS_matrix),rownames(PFS_RS_matrix))\n",
    "OS_RS_matrix2 = OS_RS_matrix[share_pathway,]\n",
    "OS_RS_matrix2$Overview = OS_RS_matrix[share_pathway,]$MultiTumor_ALL_pan_clean + PFS_RS_matrix[share_pathway,c(\"MultiTumor_ALL_pan_clean\")]\n",
    "OS_RS_matrix2 = OS_RS_matrix2[ order(OS_RS_matrix2$Overview),]"
   ]
  },
  {
   "cell_type": "code",
   "execution_count": 28,
   "id": "7d055be7",
   "metadata": {
    "scrolled": true
   },
   "outputs": [],
   "source": [
    "OS_RS_matrix2_0.05 = OS_RS_matrix2[grepl(\"GOBP\",rownames(OS_RS_matrix2)),]"
   ]
  },
  {
   "cell_type": "markdown",
   "id": "fd132df9",
   "metadata": {},
   "source": [
    "# 0.1"
   ]
  },
  {
   "cell_type": "markdown",
   "id": "0c67c02a",
   "metadata": {},
   "source": [
    "### OS"
   ]
  },
  {
   "cell_type": "code",
   "execution_count": 32,
   "id": "cfaefe01",
   "metadata": {},
   "outputs": [],
   "source": [
    "ref_single_significant = list()\n",
    "\n",
    "for(i in rownames(datasets_overview)[datasets_overview$Sequencing == \"WES\"]){\n",
    "        \n",
    "        tmp2 = ref_path_OS[[i]]\n",
    "        tmp2[\"top_3_gene(mutation)\"] = NULL\n",
    "        tmp2 = as.data.frame(apply(tmp2,2,as.numeric))\n",
    "        rownames(tmp2) = rownames(ref_path_OS[[i]])\n",
    "        tmp2 = tmp2[!is.na(tmp2$`Patient(Mutation)`) & !is.na(tmp2$`Patient(Wildtype)`),]\n",
    "        less_num = floor(unique(rowSums(tmp2[,c(\"Patient(Mutation)\",\"Patient(Wildtype)\")])) * 0.1) # 两个组至少包含的患者数是总人数的5%\n",
    "        if(less_num <3){less_num = 3}\n",
    "        tmp = tmp2[ tmp2$`Patient(Mutation)` >= less_num & tmp2$`Patient(Wildtype)` >= less_num,]\n",
    "#         tmp = tmp[ tmp$`Log_rank_test(OS)`<0.05 | tmp$`Wald_test(OS)` < 0.05,]  # 筛选P值小于0.05\n",
    "        if(nrow(tmp) != 0){\n",
    "            tmp$dataset = i\n",
    "            tmp$Cancer_type = datasets_overview[i,\"Cancer_type\"]\n",
    "            tmp$Cancer_type2 = datasets_overview[i,\"Cancer_type2\"]\n",
    "            tmp$gene = rownames(tmp)\n",
    "        }  \n",
    "        ref_single_significant[[i]] = tmp\n",
    "}"
   ]
  },
  {
   "cell_type": "code",
   "execution_count": 33,
   "id": "56908656",
   "metadata": {},
   "outputs": [],
   "source": [
    "tmp = vector()\n",
    "for(i in names(ref_single_significant)){\n",
    "    if(!i %in%  c(\"dataset5\",\"dataset7\",\"dataset13\",\"dataset16\",\"dataset1\",\"dataset3\",\"dataset6\") & nrow(ref_single_significant[[i]]) != 0){\n",
    "        tmp = rbind(tmp,ref_single_significant[[i]])\n",
    "    }\n",
    "    \n",
    "}"
   ]
  },
  {
   "cell_type": "code",
   "execution_count": 34,
   "id": "760b919b",
   "metadata": {},
   "outputs": [],
   "source": [
    "tmp$RS = -log(x = tmp$`Wald_test(OS)`,20) * log10(tmp$`HR(OS)`)"
   ]
  },
  {
   "cell_type": "code",
   "execution_count": 35,
   "id": "d34cc6da",
   "metadata": {},
   "outputs": [],
   "source": [
    "RS_matrix = reshape2::dcast(data = tmp[,c(\"dataset\",\"RS\",\"gene\")],formula = gene~dataset,value.var = \"RS\",fill = 0)\n",
    "rownames(RS_matrix) = RS_matrix$gene\n",
    "RS_matrix$gene = NULL"
   ]
  },
  {
   "cell_type": "code",
   "execution_count": 36,
   "id": "b40b7346",
   "metadata": {},
   "outputs": [],
   "source": [
    "# 每个瘤种为一个单位，计算单瘤种的数据集鲁棒性,为了让具有更多的数据集的瘤种在计算得分时，具有更高的赋值，所以计算平均数据集得分后，会乘以一个同方向数据集个数\n",
    "for(i in unique(datasets_overview$Cancer_type2)){\n",
    "    tmp_datasets = rownames(datasets_overview)[ datasets_overview$Cancer_type2 %in% i]\n",
    "    tmp_datasets = intersect(tmp_datasets,colnames(RS_matrix))\n",
    "    RS_matrix[[i]] = apply(X = RS_matrix[tmp_datasets],1,function(x){\n",
    "        meanscore = mean(x[x !=0 ])\n",
    "        meanscore2 = ifelse(sign(meanscore) == 1, meanscore*sum(x > 0 ),\n",
    "                          ifelse(sign(meanscore) == -1,meanscore*sum(x < 0 ),0))\n",
    "        \n",
    "        return(meanscore2)\n",
    "    })\n",
    "    RS_matrix[[i]][is.na(RS_matrix[[i]])] = 0\n",
    "}\n",
    "\n",
    "for(i in unique(datasets_overview$Cancer_type2)){\n",
    "    tmp_datasets = rownames(datasets_overview)[ datasets_overview$Cancer_type2 %in% i]\n",
    "    tmp_datasets = intersect(tmp_datasets,colnames(RS_matrix))\n",
    "    seq_weight = ifelse(datasets_overview[tmp_datasets,\"Sequencing\"] == \"Panel\",0.5,1)\n",
    "    cn = paste(i,\"seq\",sep = \"_\")\n",
    "    RS_matrix[[cn]] = apply(X = RS_matrix[tmp_datasets],1,function(x){\n",
    "#         meanscore = sum(x[ x != 0 ] * seq_weight[ x != 0 ])/sum( x != 0)\n",
    "        meanscore = mean(x[x != 0 ])\n",
    "        meanscore2 = ifelse(sign(meanscore) == 1,meanscore*sum(seq_weight[x>0]),meanscore*sum(seq_weight[x<0]))\n",
    "        \n",
    "        return(meanscore2)\n",
    "    })\n",
    "    RS_matrix[[cn]][is.na(RS_matrix[[cn]])] = 0\n",
    "}"
   ]
  },
  {
   "cell_type": "code",
   "execution_count": 37,
   "id": "75e055ed",
   "metadata": {},
   "outputs": [],
   "source": [
    "# 简单的加和可能会导致某些在个别数据集上表现特别好的基因过分地增大了最后得分\n",
    "RS_matrix$MultiTumor_ALL_pan = apply(RS_matrix[,unique(datasets_overview$Cancer_type2)],1,function(x){\n",
    "    meanscore = mean(x)\n",
    "    ifelse(sign(meanscore) == 1,meanscore*sum(x>0),meanscore*sum(x<0))\n",
    "})\n",
    "\n",
    "RS_matrix$MultiTumor_ALL_pan_clean = apply(RS_matrix[,setdiff(unique(datasets_overview$Cancer_type2),c(\"Pan-cancer\",\"Microsatellite-stable solid tumors\"))],1,function(x){\n",
    "    meanscore = mean(x)\n",
    "    ifelse(sign(meanscore) == 1,meanscore*sum(x>0),meanscore*sum(x<0))\n",
    "})\n",
    "\n",
    "RS_matrix$MultiTumor_ALL_pan_seq = apply(RS_matrix[,paste(unique(datasets_overview$Cancer_type2),\"seq\",sep = \"_\")],1,function(x){\n",
    "    meanscore = mean(x)\n",
    "    ifelse(sign(meanscore) == 1,meanscore*sum(x>0),meanscore*sum(x<0))\n",
    "})\n",
    "\n",
    "RS_matrix$MultiTumor_ALL_pan_clean_seq = apply(RS_matrix[,setdiff(paste(unique(datasets_overview$Cancer_type2),\"seq\",sep = \"_\"),\n",
    "                                                              c(\"Pan-cancer_seq\",\"Microsatellite-stable solid tumors_seq\"))],1,function(x){\n",
    "    meanscore = mean(x)\n",
    "    ifelse(sign(meanscore) == 1,meanscore*sum(x>0),meanscore*sum(x<0))\n",
    "})"
   ]
  },
  {
   "cell_type": "code",
   "execution_count": 38,
   "id": "1fb6ce52",
   "metadata": {},
   "outputs": [],
   "source": [
    "RS_matrix = RS_matrix[ order(RS_matrix$MultiTumor_ALL_pan_clean,decreasing = F),]"
   ]
  },
  {
   "cell_type": "code",
   "execution_count": 40,
   "id": "691472c5",
   "metadata": {},
   "outputs": [],
   "source": [
    "OS_RS_matrix = RS_matrix"
   ]
  },
  {
   "cell_type": "markdown",
   "id": "282ebd3e",
   "metadata": {},
   "source": [
    "### PFS"
   ]
  },
  {
   "cell_type": "code",
   "execution_count": 41,
   "id": "4865957d",
   "metadata": {},
   "outputs": [],
   "source": [
    "ref_single_significant = list()\n",
    "\n",
    "for(i in rownames(datasets_overview)[datasets_overview$Sequencing == \"WES\"]){\n",
    "        \n",
    "        tmp2 = ref_path_PFS[[i]]\n",
    "        tmp2[\"top_3_gene(mutation)\"] = NULL\n",
    "        tmp2 = as.data.frame(apply(tmp2,2,as.numeric))\n",
    "        rownames(tmp2) = rownames(ref_path_PFS[[i]])\n",
    "        tmp2 = tmp2[!is.na(tmp2$`Patient(Mutation)`) & !is.na(tmp2$`Patient(Wildtype)`),]\n",
    "        less_num = floor(unique(rowSums(tmp2[,c(\"Patient(Mutation)\",\"Patient(Wildtype)\")])) * 0.1) # 两个组至少包含的患者数是总人数的5%\n",
    "        if(less_num <3){less_num = 3}\n",
    "        tmp = tmp2[ tmp2$`Patient(Mutation)` >= less_num & tmp2$`Patient(Wildtype)` >= less_num,]\n",
    "#         tmp = tmp[ tmp$`Log_rank_test(OS)`<0.05 | tmp$`Wald_test(OS)` < 0.05,]  # 筛选P值小于0.05\n",
    "        if(nrow(tmp) != 0){\n",
    "            tmp$dataset = i\n",
    "            tmp$Cancer_type = datasets_overview[i,\"Cancer_type\"]\n",
    "            tmp$Cancer_type2 = datasets_overview[i,\"Cancer_type2\"]\n",
    "            tmp$gene = rownames(tmp)\n",
    "        }  \n",
    "        ref_single_significant[[i]] = tmp\n",
    "}"
   ]
  },
  {
   "cell_type": "code",
   "execution_count": 42,
   "id": "ed91a5a7",
   "metadata": {},
   "outputs": [],
   "source": [
    "tmp = vector()\n",
    "for(i in names(ref_single_significant)){\n",
    "    if(!i %in%  c(\"dataset1.1\",\"dataset1.2\",\"dataset1.3\",\"dataset1.4\",\"dataset1.5\",\"dataset1.6\",\"dataset1.7\",\"dataset1.8\",\"dataset1.9\",\n",
    "                        \"dataset1\",\"dataset8\",\"dataset10\",\"dataset11\",\"dataset1\",\"dataset3\",\"dataset6\") & nrow(ref_single_significant[[i]]) != 0){\n",
    "        tmp = rbind(tmp,ref_single_significant[[i]])\n",
    "    }\n",
    "    \n",
    "}"
   ]
  },
  {
   "cell_type": "code",
   "execution_count": 43,
   "id": "40b07a62",
   "metadata": {},
   "outputs": [],
   "source": [
    "tmp$RS = -log(x = tmp$`Wald_test(PFS)`,20) * log10(tmp$`HR(PFS)`)"
   ]
  },
  {
   "cell_type": "code",
   "execution_count": 44,
   "id": "7bd8c33c",
   "metadata": {},
   "outputs": [],
   "source": [
    "RS_matrix = reshape2::dcast(data = tmp[,c(\"dataset\",\"RS\",\"gene\")],formula = gene~dataset,value.var = \"RS\",fill = 0)\n",
    "rownames(RS_matrix) = RS_matrix$gene\n",
    "RS_matrix$gene = NULL"
   ]
  },
  {
   "cell_type": "code",
   "execution_count": 45,
   "id": "db6422bf",
   "metadata": {},
   "outputs": [],
   "source": [
    "# 每个瘤种为一个单位，计算单瘤种的数据集鲁棒性,为了让具有更多的数据集的瘤种在计算得分时，具有更高的赋值，所以计算平均数据集得分后，会乘以一个同方向数据集个数\n",
    "for(i in unique(datasets_overview$Cancer_type2)){\n",
    "    tmp_datasets = rownames(datasets_overview)[ datasets_overview$Cancer_type2 %in% i]\n",
    "    tmp_datasets = intersect(tmp_datasets,colnames(RS_matrix))\n",
    "    RS_matrix[[i]] = apply(X = RS_matrix[tmp_datasets],1,function(x){\n",
    "        meanscore = mean(x[x !=0 ])\n",
    "        meanscore2 = ifelse(sign(meanscore) == 1, meanscore*sum(x > 0 ),\n",
    "                          ifelse(sign(meanscore) == -1,meanscore*sum(x < 0 ),0))\n",
    "        \n",
    "        return(meanscore2)\n",
    "    })\n",
    "    RS_matrix[[i]][is.na(RS_matrix[[i]])] = 0\n",
    "}\n",
    "\n",
    "for(i in unique(datasets_overview$Cancer_type2)){\n",
    "    tmp_datasets = rownames(datasets_overview)[ datasets_overview$Cancer_type2 %in% i]\n",
    "    tmp_datasets = intersect(tmp_datasets,colnames(RS_matrix))\n",
    "    seq_weight = ifelse(datasets_overview[tmp_datasets,\"Sequencing\"] == \"Panel\",0.5,1)\n",
    "    cn = paste(i,\"seq\",sep = \"_\")\n",
    "    RS_matrix[[cn]] = apply(X = RS_matrix[tmp_datasets],1,function(x){\n",
    "#         meanscore = sum(x[ x != 0 ] * seq_weight[ x != 0 ])/sum( x != 0)\n",
    "        meanscore = mean(x[x != 0 ])\n",
    "        meanscore2 = ifelse(sign(meanscore) == 1,meanscore*sum(seq_weight[x>0]),meanscore*sum(seq_weight[x<0]))\n",
    "        \n",
    "        return(meanscore2)\n",
    "    })\n",
    "    RS_matrix[[cn]][is.na(RS_matrix[[cn]])] = 0\n",
    "}"
   ]
  },
  {
   "cell_type": "code",
   "execution_count": 46,
   "id": "220514fb",
   "metadata": {},
   "outputs": [],
   "source": [
    "# 简单的加和可能会导致某些在个别数据集上表现特别好的基因过分地增大了最后得分\n",
    "RS_matrix$MultiTumor_ALL_pan = apply(RS_matrix[,unique(datasets_overview$Cancer_type2)],1,function(x){\n",
    "    meanscore = mean(x)\n",
    "    ifelse(sign(meanscore) == 1,meanscore*sum(x>0),meanscore*sum(x<0))\n",
    "})\n",
    "\n",
    "RS_matrix$MultiTumor_ALL_pan_clean = apply(RS_matrix[,setdiff(unique(datasets_overview$Cancer_type2),c(\"Pan-cancer\",\"Microsatellite-stable solid tumors\"))],1,function(x){\n",
    "    meanscore = mean(x)\n",
    "    ifelse(sign(meanscore) == 1,meanscore*sum(x>0),meanscore*sum(x<0))\n",
    "})\n",
    "\n",
    "RS_matrix$MultiTumor_ALL_pan_seq = apply(RS_matrix[,paste(unique(datasets_overview$Cancer_type2),\"seq\",sep = \"_\")],1,function(x){\n",
    "    meanscore = mean(x)\n",
    "    ifelse(sign(meanscore) == 1,meanscore*sum(x>0),meanscore*sum(x<0))\n",
    "})\n",
    "\n",
    "RS_matrix$MultiTumor_ALL_pan_clean_seq = apply(RS_matrix[,setdiff(paste(unique(datasets_overview$Cancer_type2),\"seq\",sep = \"_\"),\n",
    "                                                              c(\"Pan-cancer_seq\",\"Microsatellite-stable solid tumors_seq\"))],1,function(x){\n",
    "    meanscore = mean(x)\n",
    "    ifelse(sign(meanscore) == 1,meanscore*sum(x>0),meanscore*sum(x<0))\n",
    "})"
   ]
  },
  {
   "cell_type": "code",
   "execution_count": 47,
   "id": "35c149ad",
   "metadata": {},
   "outputs": [],
   "source": [
    "RS_matrix = RS_matrix[ order(RS_matrix$MultiTumor_ALL_pan_clean,decreasing = F),]"
   ]
  },
  {
   "cell_type": "code",
   "execution_count": 49,
   "id": "9767b80b",
   "metadata": {},
   "outputs": [],
   "source": [
    "PFS_RS_matrix = RS_matrix"
   ]
  },
  {
   "cell_type": "code",
   "execution_count": 50,
   "id": "1d5006b1",
   "metadata": {},
   "outputs": [],
   "source": [
    "share_pathway = intersect(rownames(OS_RS_matrix),rownames(PFS_RS_matrix))\n",
    "OS_RS_matrix2 = OS_RS_matrix[share_pathway,]\n",
    "OS_RS_matrix2$Overview = OS_RS_matrix[share_pathway,]$MultiTumor_ALL_pan_clean + PFS_RS_matrix[share_pathway,c(\"MultiTumor_ALL_pan_clean\")]\n",
    "OS_RS_matrix2 = OS_RS_matrix2[ order(OS_RS_matrix2$Overview),]"
   ]
  },
  {
   "cell_type": "code",
   "execution_count": 52,
   "id": "e05b29d1",
   "metadata": {
    "scrolled": true
   },
   "outputs": [],
   "source": [
    "OS_RS_matrix2_0.1 = OS_RS_matrix2[grepl(\"GOBP\",rownames(OS_RS_matrix2)),]"
   ]
  },
  {
   "cell_type": "markdown",
   "id": "8fd3c84e",
   "metadata": {},
   "source": [
    "# 0.15"
   ]
  },
  {
   "cell_type": "markdown",
   "id": "efb52dc5",
   "metadata": {},
   "source": [
    "### OS"
   ]
  },
  {
   "cell_type": "code",
   "execution_count": 53,
   "id": "fd673716",
   "metadata": {},
   "outputs": [],
   "source": [
    "ref_single_significant = list()\n",
    "\n",
    "for(i in rownames(datasets_overview)[datasets_overview$Sequencing == \"WES\"]){\n",
    "        \n",
    "        tmp2 = ref_path_OS[[i]]\n",
    "        tmp2[\"top_3_gene(mutation)\"] = NULL\n",
    "        tmp2 = as.data.frame(apply(tmp2,2,as.numeric))\n",
    "        rownames(tmp2) = rownames(ref_path_OS[[i]])\n",
    "        tmp2 = tmp2[!is.na(tmp2$`Patient(Mutation)`) & !is.na(tmp2$`Patient(Wildtype)`),]\n",
    "        less_num = floor(unique(rowSums(tmp2[,c(\"Patient(Mutation)\",\"Patient(Wildtype)\")])) * 0.15) # 两个组至少包含的患者数是总人数的5%\n",
    "        if(less_num <3){less_num = 3}\n",
    "        tmp = tmp2[ tmp2$`Patient(Mutation)` >= less_num & tmp2$`Patient(Wildtype)` >= less_num,]\n",
    "#         tmp = tmp[ tmp$`Log_rank_test(OS)`<0.05 | tmp$`Wald_test(OS)` < 0.05,]  # 筛选P值小于0.05\n",
    "        if(nrow(tmp) != 0){\n",
    "            tmp$dataset = i\n",
    "            tmp$Cancer_type = datasets_overview[i,\"Cancer_type\"]\n",
    "            tmp$Cancer_type2 = datasets_overview[i,\"Cancer_type2\"]\n",
    "            tmp$gene = rownames(tmp)\n",
    "        }  \n",
    "        ref_single_significant[[i]] = tmp\n",
    "}"
   ]
  },
  {
   "cell_type": "code",
   "execution_count": 54,
   "id": "18896b1b",
   "metadata": {},
   "outputs": [],
   "source": [
    "tmp = vector()\n",
    "for(i in names(ref_single_significant)){\n",
    "    if(!i %in%  c(\"dataset5\",\"dataset7\",\"dataset13\",\"dataset16\",\"dataset1\",\"dataset3\",\"dataset6\") & nrow(ref_single_significant[[i]]) != 0){\n",
    "        tmp = rbind(tmp,ref_single_significant[[i]])\n",
    "    }\n",
    "    \n",
    "}"
   ]
  },
  {
   "cell_type": "code",
   "execution_count": 55,
   "id": "19ebcaac",
   "metadata": {},
   "outputs": [],
   "source": [
    "tmp$RS = -log(x = tmp$`Wald_test(OS)`,20) * log10(tmp$`HR(OS)`)"
   ]
  },
  {
   "cell_type": "code",
   "execution_count": 56,
   "id": "aa82449d",
   "metadata": {},
   "outputs": [],
   "source": [
    "RS_matrix = reshape2::dcast(data = tmp[,c(\"dataset\",\"RS\",\"gene\")],formula = gene~dataset,value.var = \"RS\",fill = 0)\n",
    "rownames(RS_matrix) = RS_matrix$gene\n",
    "RS_matrix$gene = NULL"
   ]
  },
  {
   "cell_type": "code",
   "execution_count": 57,
   "id": "dcdac383",
   "metadata": {},
   "outputs": [],
   "source": [
    "# 每个瘤种为一个单位，计算单瘤种的数据集鲁棒性,为了让具有更多的数据集的瘤种在计算得分时，具有更高的赋值，所以计算平均数据集得分后，会乘以一个同方向数据集个数\n",
    "for(i in unique(datasets_overview$Cancer_type2)){\n",
    "    tmp_datasets = rownames(datasets_overview)[ datasets_overview$Cancer_type2 %in% i]\n",
    "    tmp_datasets = intersect(tmp_datasets,colnames(RS_matrix))\n",
    "    RS_matrix[[i]] = apply(X = RS_matrix[tmp_datasets],1,function(x){\n",
    "        meanscore = mean(x[x !=0 ])\n",
    "        meanscore2 = ifelse(sign(meanscore) == 1, meanscore*sum(x > 0 ),\n",
    "                          ifelse(sign(meanscore) == -1,meanscore*sum(x < 0 ),0))\n",
    "        \n",
    "        return(meanscore2)\n",
    "    })\n",
    "    RS_matrix[[i]][is.na(RS_matrix[[i]])] = 0\n",
    "}\n",
    "\n",
    "for(i in unique(datasets_overview$Cancer_type2)){\n",
    "    tmp_datasets = rownames(datasets_overview)[ datasets_overview$Cancer_type2 %in% i]\n",
    "    tmp_datasets = intersect(tmp_datasets,colnames(RS_matrix))\n",
    "    seq_weight = ifelse(datasets_overview[tmp_datasets,\"Sequencing\"] == \"Panel\",0.5,1)\n",
    "    cn = paste(i,\"seq\",sep = \"_\")\n",
    "    RS_matrix[[cn]] = apply(X = RS_matrix[tmp_datasets],1,function(x){\n",
    "#         meanscore = sum(x[ x != 0 ] * seq_weight[ x != 0 ])/sum( x != 0)\n",
    "        meanscore = mean(x[x != 0 ])\n",
    "        meanscore2 = ifelse(sign(meanscore) == 1,meanscore*sum(seq_weight[x>0]),meanscore*sum(seq_weight[x<0]))\n",
    "        \n",
    "        return(meanscore2)\n",
    "    })\n",
    "    RS_matrix[[cn]][is.na(RS_matrix[[cn]])] = 0\n",
    "}"
   ]
  },
  {
   "cell_type": "code",
   "execution_count": 58,
   "id": "25387012",
   "metadata": {},
   "outputs": [],
   "source": [
    "# 简单的加和可能会导致某些在个别数据集上表现特别好的基因过分地增大了最后得分\n",
    "RS_matrix$MultiTumor_ALL_pan = apply(RS_matrix[,unique(datasets_overview$Cancer_type2)],1,function(x){\n",
    "    meanscore = mean(x)\n",
    "    ifelse(sign(meanscore) == 1,meanscore*sum(x>0),meanscore*sum(x<0))\n",
    "})\n",
    "\n",
    "RS_matrix$MultiTumor_ALL_pan_clean = apply(RS_matrix[,setdiff(unique(datasets_overview$Cancer_type2),c(\"Pan-cancer\",\"Microsatellite-stable solid tumors\"))],1,function(x){\n",
    "    meanscore = mean(x)\n",
    "    ifelse(sign(meanscore) == 1,meanscore*sum(x>0),meanscore*sum(x<0))\n",
    "})\n",
    "\n",
    "RS_matrix$MultiTumor_ALL_pan_seq = apply(RS_matrix[,paste(unique(datasets_overview$Cancer_type2),\"seq\",sep = \"_\")],1,function(x){\n",
    "    meanscore = mean(x)\n",
    "    ifelse(sign(meanscore) == 1,meanscore*sum(x>0),meanscore*sum(x<0))\n",
    "})\n",
    "\n",
    "RS_matrix$MultiTumor_ALL_pan_clean_seq = apply(RS_matrix[,setdiff(paste(unique(datasets_overview$Cancer_type2),\"seq\",sep = \"_\"),\n",
    "                                                              c(\"Pan-cancer_seq\",\"Microsatellite-stable solid tumors_seq\"))],1,function(x){\n",
    "    meanscore = mean(x)\n",
    "    ifelse(sign(meanscore) == 1,meanscore*sum(x>0),meanscore*sum(x<0))\n",
    "})"
   ]
  },
  {
   "cell_type": "code",
   "execution_count": 59,
   "id": "a0d43596",
   "metadata": {},
   "outputs": [],
   "source": [
    "RS_matrix = RS_matrix[ order(RS_matrix$MultiTumor_ALL_pan_clean,decreasing = F),]"
   ]
  },
  {
   "cell_type": "code",
   "execution_count": 61,
   "id": "8d4ee519",
   "metadata": {},
   "outputs": [],
   "source": [
    "OS_RS_matrix = RS_matrix"
   ]
  },
  {
   "cell_type": "markdown",
   "id": "a4b0c761",
   "metadata": {},
   "source": [
    "### PFS"
   ]
  },
  {
   "cell_type": "code",
   "execution_count": 62,
   "id": "c43aebb9",
   "metadata": {},
   "outputs": [],
   "source": [
    "ref_single_significant = list()\n",
    "\n",
    "for(i in rownames(datasets_overview)[datasets_overview$Sequencing == \"WES\"]){\n",
    "        \n",
    "        tmp2 = ref_path_PFS[[i]]\n",
    "        tmp2[\"top_3_gene(mutation)\"] = NULL\n",
    "        tmp2 = as.data.frame(apply(tmp2,2,as.numeric))\n",
    "        rownames(tmp2) = rownames(ref_path_PFS[[i]])\n",
    "        tmp2 = tmp2[!is.na(tmp2$`Patient(Mutation)`) & !is.na(tmp2$`Patient(Wildtype)`),]\n",
    "        less_num = floor(unique(rowSums(tmp2[,c(\"Patient(Mutation)\",\"Patient(Wildtype)\")])) * 0.15) # 两个组至少包含的患者数是总人数的5%\n",
    "        if(less_num <3){less_num = 3}\n",
    "        tmp = tmp2[ tmp2$`Patient(Mutation)` >= less_num & tmp2$`Patient(Wildtype)` >= less_num,]\n",
    "#         tmp = tmp[ tmp$`Log_rank_test(OS)`<0.05 | tmp$`Wald_test(OS)` < 0.05,]  # 筛选P值小于0.05\n",
    "        if(nrow(tmp) != 0){\n",
    "            tmp$dataset = i\n",
    "            tmp$Cancer_type = datasets_overview[i,\"Cancer_type\"]\n",
    "            tmp$Cancer_type2 = datasets_overview[i,\"Cancer_type2\"]\n",
    "            tmp$gene = rownames(tmp)\n",
    "        }  \n",
    "        ref_single_significant[[i]] = tmp\n",
    "}"
   ]
  },
  {
   "cell_type": "code",
   "execution_count": 63,
   "id": "3b8955ad",
   "metadata": {},
   "outputs": [],
   "source": [
    "tmp = vector()\n",
    "for(i in names(ref_single_significant)){\n",
    "    if(!i %in%  c(\"dataset1.1\",\"dataset1.2\",\"dataset1.3\",\"dataset1.4\",\"dataset1.5\",\"dataset1.6\",\"dataset1.7\",\"dataset1.8\",\"dataset1.9\",\n",
    "                        \"dataset1\",\"dataset8\",\"dataset10\",\"dataset11\",\"dataset1\",\"dataset3\",\"dataset6\") & nrow(ref_single_significant[[i]]) != 0){\n",
    "        tmp = rbind(tmp,ref_single_significant[[i]])\n",
    "    }\n",
    "    \n",
    "}"
   ]
  },
  {
   "cell_type": "code",
   "execution_count": 64,
   "id": "a3e2f963",
   "metadata": {},
   "outputs": [],
   "source": [
    "tmp$RS = -log(x = tmp$`Wald_test(PFS)`,20) * log10(tmp$`HR(PFS)`)"
   ]
  },
  {
   "cell_type": "code",
   "execution_count": 65,
   "id": "91f62983",
   "metadata": {},
   "outputs": [],
   "source": [
    "RS_matrix = reshape2::dcast(data = tmp[,c(\"dataset\",\"RS\",\"gene\")],formula = gene~dataset,value.var = \"RS\",fill = 0)\n",
    "rownames(RS_matrix) = RS_matrix$gene\n",
    "RS_matrix$gene = NULL"
   ]
  },
  {
   "cell_type": "code",
   "execution_count": 66,
   "id": "5b5b84eb",
   "metadata": {},
   "outputs": [],
   "source": [
    "# 每个瘤种为一个单位，计算单瘤种的数据集鲁棒性,为了让具有更多的数据集的瘤种在计算得分时，具有更高的赋值，所以计算平均数据集得分后，会乘以一个同方向数据集个数\n",
    "for(i in unique(datasets_overview$Cancer_type2)){\n",
    "    tmp_datasets = rownames(datasets_overview)[ datasets_overview$Cancer_type2 %in% i]\n",
    "    tmp_datasets = intersect(tmp_datasets,colnames(RS_matrix))\n",
    "    RS_matrix[[i]] = apply(X = RS_matrix[tmp_datasets],1,function(x){\n",
    "        meanscore = mean(x[x !=0 ])\n",
    "        meanscore2 = ifelse(sign(meanscore) == 1, meanscore*sum(x > 0 ),\n",
    "                          ifelse(sign(meanscore) == -1,meanscore*sum(x < 0 ),0))\n",
    "        \n",
    "        return(meanscore2)\n",
    "    })\n",
    "    RS_matrix[[i]][is.na(RS_matrix[[i]])] = 0\n",
    "}\n",
    "\n",
    "for(i in unique(datasets_overview$Cancer_type2)){\n",
    "    tmp_datasets = rownames(datasets_overview)[ datasets_overview$Cancer_type2 %in% i]\n",
    "    tmp_datasets = intersect(tmp_datasets,colnames(RS_matrix))\n",
    "    seq_weight = ifelse(datasets_overview[tmp_datasets,\"Sequencing\"] == \"Panel\",0.5,1)\n",
    "    cn = paste(i,\"seq\",sep = \"_\")\n",
    "    RS_matrix[[cn]] = apply(X = RS_matrix[tmp_datasets],1,function(x){\n",
    "#         meanscore = sum(x[ x != 0 ] * seq_weight[ x != 0 ])/sum( x != 0)\n",
    "        meanscore = mean(x[x != 0 ])\n",
    "        meanscore2 = ifelse(sign(meanscore) == 1,meanscore*sum(seq_weight[x>0]),meanscore*sum(seq_weight[x<0]))\n",
    "        \n",
    "        return(meanscore2)\n",
    "    })\n",
    "    RS_matrix[[cn]][is.na(RS_matrix[[cn]])] = 0\n",
    "}"
   ]
  },
  {
   "cell_type": "code",
   "execution_count": 67,
   "id": "f565ff4f",
   "metadata": {},
   "outputs": [],
   "source": [
    "# 简单的加和可能会导致某些在个别数据集上表现特别好的基因过分地增大了最后得分\n",
    "RS_matrix$MultiTumor_ALL_pan = apply(RS_matrix[,unique(datasets_overview$Cancer_type2)],1,function(x){\n",
    "    meanscore = mean(x)\n",
    "    ifelse(sign(meanscore) == 1,meanscore*sum(x>0),meanscore*sum(x<0))\n",
    "})\n",
    "\n",
    "RS_matrix$MultiTumor_ALL_pan_clean = apply(RS_matrix[,setdiff(unique(datasets_overview$Cancer_type2),c(\"Pan-cancer\",\"Microsatellite-stable solid tumors\"))],1,function(x){\n",
    "    meanscore = mean(x)\n",
    "    ifelse(sign(meanscore) == 1,meanscore*sum(x>0),meanscore*sum(x<0))\n",
    "})\n",
    "\n",
    "RS_matrix$MultiTumor_ALL_pan_seq = apply(RS_matrix[,paste(unique(datasets_overview$Cancer_type2),\"seq\",sep = \"_\")],1,function(x){\n",
    "    meanscore = mean(x)\n",
    "    ifelse(sign(meanscore) == 1,meanscore*sum(x>0),meanscore*sum(x<0))\n",
    "})\n",
    "\n",
    "RS_matrix$MultiTumor_ALL_pan_clean_seq = apply(RS_matrix[,setdiff(paste(unique(datasets_overview$Cancer_type2),\"seq\",sep = \"_\"),\n",
    "                                                              c(\"Pan-cancer_seq\",\"Microsatellite-stable solid tumors_seq\"))],1,function(x){\n",
    "    meanscore = mean(x)\n",
    "    ifelse(sign(meanscore) == 1,meanscore*sum(x>0),meanscore*sum(x<0))\n",
    "})"
   ]
  },
  {
   "cell_type": "code",
   "execution_count": 68,
   "id": "07eecdea",
   "metadata": {},
   "outputs": [],
   "source": [
    "RS_matrix = RS_matrix[ order(RS_matrix$MultiTumor_ALL_pan_clean,decreasing = F),]"
   ]
  },
  {
   "cell_type": "code",
   "execution_count": 70,
   "id": "75c42402",
   "metadata": {},
   "outputs": [],
   "source": [
    "PFS_RS_matrix = RS_matrix"
   ]
  },
  {
   "cell_type": "code",
   "execution_count": 71,
   "id": "d3702011",
   "metadata": {},
   "outputs": [],
   "source": [
    "share_pathway = intersect(rownames(OS_RS_matrix),rownames(PFS_RS_matrix))\n",
    "OS_RS_matrix2 = OS_RS_matrix[share_pathway,]\n",
    "OS_RS_matrix2$Overview = OS_RS_matrix[share_pathway,]$MultiTumor_ALL_pan_clean + PFS_RS_matrix[share_pathway,c(\"MultiTumor_ALL_pan_clean\")]\n",
    "OS_RS_matrix2 = OS_RS_matrix2[ order(OS_RS_matrix2$Overview),]"
   ]
  },
  {
   "cell_type": "code",
   "execution_count": 73,
   "id": "7fc3bc75",
   "metadata": {
    "scrolled": true
   },
   "outputs": [],
   "source": [
    "OS_RS_matrix2_0.15 = OS_RS_matrix2[grepl(\"GOBP\",rownames(OS_RS_matrix2)),]"
   ]
  },
  {
   "cell_type": "markdown",
   "id": "9ff5e8a0",
   "metadata": {},
   "source": [
    "# 0.2"
   ]
  },
  {
   "cell_type": "markdown",
   "id": "9133623c",
   "metadata": {},
   "source": [
    "### OS"
   ]
  },
  {
   "cell_type": "code",
   "execution_count": 74,
   "id": "afc370d4",
   "metadata": {},
   "outputs": [],
   "source": [
    "ref_single_significant = list()\n",
    "\n",
    "for(i in rownames(datasets_overview)[datasets_overview$Sequencing == \"WES\"]){\n",
    "        \n",
    "        tmp2 = ref_path_OS[[i]]\n",
    "        tmp2[\"top_3_gene(mutation)\"] = NULL\n",
    "        tmp2 = as.data.frame(apply(tmp2,2,as.numeric))\n",
    "        rownames(tmp2) = rownames(ref_path_OS[[i]])\n",
    "        tmp2 = tmp2[!is.na(tmp2$`Patient(Mutation)`) & !is.na(tmp2$`Patient(Wildtype)`),]\n",
    "        less_num = floor(unique(rowSums(tmp2[,c(\"Patient(Mutation)\",\"Patient(Wildtype)\")])) * 0.2) # 两个组至少包含的患者数是总人数的5%\n",
    "        if(less_num <3){less_num = 3}\n",
    "        tmp = tmp2[ tmp2$`Patient(Mutation)` >= less_num & tmp2$`Patient(Wildtype)` >= less_num,]\n",
    "#         tmp = tmp[ tmp$`Log_rank_test(OS)`<0.05 | tmp$`Wald_test(OS)` < 0.05,]  # 筛选P值小于0.05\n",
    "        if(nrow(tmp) != 0){\n",
    "            tmp$dataset = i\n",
    "            tmp$Cancer_type = datasets_overview[i,\"Cancer_type\"]\n",
    "            tmp$Cancer_type2 = datasets_overview[i,\"Cancer_type2\"]\n",
    "            tmp$gene = rownames(tmp)\n",
    "        }  \n",
    "        ref_single_significant[[i]] = tmp\n",
    "}"
   ]
  },
  {
   "cell_type": "code",
   "execution_count": 75,
   "id": "06deb7ae",
   "metadata": {},
   "outputs": [],
   "source": [
    "tmp = vector()\n",
    "for(i in names(ref_single_significant)){\n",
    "    if(!i %in%  c(\"dataset5\",\"dataset7\",\"dataset13\",\"dataset16\",\"dataset1\",\"dataset3\",\"dataset6\") & nrow(ref_single_significant[[i]]) != 0){\n",
    "        tmp = rbind(tmp,ref_single_significant[[i]])\n",
    "    }\n",
    "    \n",
    "}"
   ]
  },
  {
   "cell_type": "code",
   "execution_count": 76,
   "id": "3129f779",
   "metadata": {},
   "outputs": [],
   "source": [
    "tmp$RS = -log(x = tmp$`Wald_test(OS)`,20) * log10(tmp$`HR(OS)`)"
   ]
  },
  {
   "cell_type": "code",
   "execution_count": 77,
   "id": "9a8fa83d",
   "metadata": {},
   "outputs": [],
   "source": [
    "RS_matrix = reshape2::dcast(data = tmp[,c(\"dataset\",\"RS\",\"gene\")],formula = gene~dataset,value.var = \"RS\",fill = 0)\n",
    "rownames(RS_matrix) = RS_matrix$gene\n",
    "RS_matrix$gene = NULL"
   ]
  },
  {
   "cell_type": "code",
   "execution_count": 78,
   "id": "5f55f2d4",
   "metadata": {},
   "outputs": [],
   "source": [
    "# 每个瘤种为一个单位，计算单瘤种的数据集鲁棒性,为了让具有更多的数据集的瘤种在计算得分时，具有更高的赋值，所以计算平均数据集得分后，会乘以一个同方向数据集个数\n",
    "for(i in unique(datasets_overview$Cancer_type2)){\n",
    "    tmp_datasets = rownames(datasets_overview)[ datasets_overview$Cancer_type2 %in% i]\n",
    "    tmp_datasets = intersect(tmp_datasets,colnames(RS_matrix))\n",
    "    RS_matrix[[i]] = apply(X = RS_matrix[tmp_datasets],1,function(x){\n",
    "        meanscore = mean(x[x !=0 ])\n",
    "        meanscore2 = ifelse(sign(meanscore) == 1, meanscore*sum(x > 0 ),\n",
    "                          ifelse(sign(meanscore) == -1,meanscore*sum(x < 0 ),0))\n",
    "        \n",
    "        return(meanscore2)\n",
    "    })\n",
    "    RS_matrix[[i]][is.na(RS_matrix[[i]])] = 0\n",
    "}\n",
    "\n",
    "for(i in unique(datasets_overview$Cancer_type2)){\n",
    "    tmp_datasets = rownames(datasets_overview)[ datasets_overview$Cancer_type2 %in% i]\n",
    "    tmp_datasets = intersect(tmp_datasets,colnames(RS_matrix))\n",
    "    seq_weight = ifelse(datasets_overview[tmp_datasets,\"Sequencing\"] == \"Panel\",0.5,1)\n",
    "    cn = paste(i,\"seq\",sep = \"_\")\n",
    "    RS_matrix[[cn]] = apply(X = RS_matrix[tmp_datasets],1,function(x){\n",
    "#         meanscore = sum(x[ x != 0 ] * seq_weight[ x != 0 ])/sum( x != 0)\n",
    "        meanscore = mean(x[x != 0 ])\n",
    "        meanscore2 = ifelse(sign(meanscore) == 1,meanscore*sum(seq_weight[x>0]),meanscore*sum(seq_weight[x<0]))\n",
    "        \n",
    "        return(meanscore2)\n",
    "    })\n",
    "    RS_matrix[[cn]][is.na(RS_matrix[[cn]])] = 0\n",
    "}"
   ]
  },
  {
   "cell_type": "code",
   "execution_count": 79,
   "id": "bd11018c",
   "metadata": {},
   "outputs": [],
   "source": [
    "# 简单的加和可能会导致某些在个别数据集上表现特别好的基因过分地增大了最后得分\n",
    "RS_matrix$MultiTumor_ALL_pan = apply(RS_matrix[,unique(datasets_overview$Cancer_type2)],1,function(x){\n",
    "    meanscore = mean(x)\n",
    "    ifelse(sign(meanscore) == 1,meanscore*sum(x>0),meanscore*sum(x<0))\n",
    "})\n",
    "\n",
    "RS_matrix$MultiTumor_ALL_pan_clean = apply(RS_matrix[,setdiff(unique(datasets_overview$Cancer_type2),c(\"Pan-cancer\",\"Microsatellite-stable solid tumors\"))],1,function(x){\n",
    "    meanscore = mean(x)\n",
    "    ifelse(sign(meanscore) == 1,meanscore*sum(x>0),meanscore*sum(x<0))\n",
    "})\n",
    "\n",
    "RS_matrix$MultiTumor_ALL_pan_seq = apply(RS_matrix[,paste(unique(datasets_overview$Cancer_type2),\"seq\",sep = \"_\")],1,function(x){\n",
    "    meanscore = mean(x)\n",
    "    ifelse(sign(meanscore) == 1,meanscore*sum(x>0),meanscore*sum(x<0))\n",
    "})\n",
    "\n",
    "RS_matrix$MultiTumor_ALL_pan_clean_seq = apply(RS_matrix[,setdiff(paste(unique(datasets_overview$Cancer_type2),\"seq\",sep = \"_\"),\n",
    "                                                              c(\"Pan-cancer_seq\",\"Microsatellite-stable solid tumors_seq\"))],1,function(x){\n",
    "    meanscore = mean(x)\n",
    "    ifelse(sign(meanscore) == 1,meanscore*sum(x>0),meanscore*sum(x<0))\n",
    "})"
   ]
  },
  {
   "cell_type": "code",
   "execution_count": 80,
   "id": "f954daf8",
   "metadata": {},
   "outputs": [],
   "source": [
    "RS_matrix = RS_matrix[ order(RS_matrix$MultiTumor_ALL_pan_clean,decreasing = F),]"
   ]
  },
  {
   "cell_type": "code",
   "execution_count": 82,
   "id": "436f1c7f",
   "metadata": {},
   "outputs": [],
   "source": [
    "OS_RS_matrix = RS_matrix"
   ]
  },
  {
   "cell_type": "markdown",
   "id": "58038453",
   "metadata": {},
   "source": [
    "### PFS"
   ]
  },
  {
   "cell_type": "code",
   "execution_count": 83,
   "id": "312274dc",
   "metadata": {},
   "outputs": [],
   "source": [
    "ref_single_significant = list()\n",
    "\n",
    "for(i in rownames(datasets_overview)[datasets_overview$Sequencing == \"WES\"]){\n",
    "        \n",
    "        tmp2 = ref_path_PFS[[i]]\n",
    "        tmp2[\"top_3_gene(mutation)\"] = NULL\n",
    "        tmp2 = as.data.frame(apply(tmp2,2,as.numeric))\n",
    "        rownames(tmp2) = rownames(ref_path_PFS[[i]])\n",
    "        tmp2 = tmp2[!is.na(tmp2$`Patient(Mutation)`) & !is.na(tmp2$`Patient(Wildtype)`),]\n",
    "        less_num = floor(unique(rowSums(tmp2[,c(\"Patient(Mutation)\",\"Patient(Wildtype)\")])) * 0.2) # 两个组至少包含的患者数是总人数的5%\n",
    "        if(less_num <3){less_num = 3}\n",
    "        tmp = tmp2[ tmp2$`Patient(Mutation)` >= less_num & tmp2$`Patient(Wildtype)` >= less_num,]\n",
    "#         tmp = tmp[ tmp$`Log_rank_test(OS)`<0.05 | tmp$`Wald_test(OS)` < 0.05,]  # 筛选P值小于0.05\n",
    "        if(nrow(tmp) != 0){\n",
    "            tmp$dataset = i\n",
    "            tmp$Cancer_type = datasets_overview[i,\"Cancer_type\"]\n",
    "            tmp$Cancer_type2 = datasets_overview[i,\"Cancer_type2\"]\n",
    "            tmp$gene = rownames(tmp)\n",
    "        }  \n",
    "        ref_single_significant[[i]] = tmp\n",
    "}"
   ]
  },
  {
   "cell_type": "code",
   "execution_count": 84,
   "id": "671c2783",
   "metadata": {},
   "outputs": [],
   "source": [
    "tmp = vector()\n",
    "for(i in names(ref_single_significant)){\n",
    "    if(!i %in%  c(\"dataset1.1\",\"dataset1.2\",\"dataset1.3\",\"dataset1.4\",\"dataset1.5\",\"dataset1.6\",\"dataset1.7\",\"dataset1.8\",\"dataset1.9\",\n",
    "                        \"dataset1\",\"dataset8\",\"dataset10\",\"dataset11\",\"dataset1\",\"dataset3\",\"dataset6\") & nrow(ref_single_significant[[i]]) != 0){\n",
    "        tmp = rbind(tmp,ref_single_significant[[i]])\n",
    "    }\n",
    "    \n",
    "}"
   ]
  },
  {
   "cell_type": "code",
   "execution_count": 85,
   "id": "d07f4340",
   "metadata": {},
   "outputs": [],
   "source": [
    "tmp$RS = -log(x = tmp$`Wald_test(PFS)`,20) * log10(tmp$`HR(PFS)`)"
   ]
  },
  {
   "cell_type": "code",
   "execution_count": 86,
   "id": "80eb64be",
   "metadata": {},
   "outputs": [],
   "source": [
    "RS_matrix = reshape2::dcast(data = tmp[,c(\"dataset\",\"RS\",\"gene\")],formula = gene~dataset,value.var = \"RS\",fill = 0)\n",
    "rownames(RS_matrix) = RS_matrix$gene\n",
    "RS_matrix$gene = NULL"
   ]
  },
  {
   "cell_type": "code",
   "execution_count": 87,
   "id": "5231c112",
   "metadata": {},
   "outputs": [],
   "source": [
    "# 每个瘤种为一个单位，计算单瘤种的数据集鲁棒性,为了让具有更多的数据集的瘤种在计算得分时，具有更高的赋值，所以计算平均数据集得分后，会乘以一个同方向数据集个数\n",
    "for(i in unique(datasets_overview$Cancer_type2)){\n",
    "    tmp_datasets = rownames(datasets_overview)[ datasets_overview$Cancer_type2 %in% i]\n",
    "    tmp_datasets = intersect(tmp_datasets,colnames(RS_matrix))\n",
    "    RS_matrix[[i]] = apply(X = RS_matrix[tmp_datasets],1,function(x){\n",
    "        meanscore = mean(x[x !=0 ])\n",
    "        meanscore2 = ifelse(sign(meanscore) == 1, meanscore*sum(x > 0 ),\n",
    "                          ifelse(sign(meanscore) == -1,meanscore*sum(x < 0 ),0))\n",
    "        \n",
    "        return(meanscore2)\n",
    "    })\n",
    "    RS_matrix[[i]][is.na(RS_matrix[[i]])] = 0\n",
    "}\n",
    "\n",
    "for(i in unique(datasets_overview$Cancer_type2)){\n",
    "    tmp_datasets = rownames(datasets_overview)[ datasets_overview$Cancer_type2 %in% i]\n",
    "    tmp_datasets = intersect(tmp_datasets,colnames(RS_matrix))\n",
    "    seq_weight = ifelse(datasets_overview[tmp_datasets,\"Sequencing\"] == \"Panel\",0.5,1)\n",
    "    cn = paste(i,\"seq\",sep = \"_\")\n",
    "    RS_matrix[[cn]] = apply(X = RS_matrix[tmp_datasets],1,function(x){\n",
    "#         meanscore = sum(x[ x != 0 ] * seq_weight[ x != 0 ])/sum( x != 0)\n",
    "        meanscore = mean(x[x != 0 ])\n",
    "        meanscore2 = ifelse(sign(meanscore) == 1,meanscore*sum(seq_weight[x>0]),meanscore*sum(seq_weight[x<0]))\n",
    "        \n",
    "        return(meanscore2)\n",
    "    })\n",
    "    RS_matrix[[cn]][is.na(RS_matrix[[cn]])] = 0\n",
    "}"
   ]
  },
  {
   "cell_type": "code",
   "execution_count": 88,
   "id": "255d839c",
   "metadata": {},
   "outputs": [],
   "source": [
    "# 简单的加和可能会导致某些在个别数据集上表现特别好的基因过分地增大了最后得分\n",
    "RS_matrix$MultiTumor_ALL_pan = apply(RS_matrix[,unique(datasets_overview$Cancer_type2)],1,function(x){\n",
    "    meanscore = mean(x)\n",
    "    ifelse(sign(meanscore) == 1,meanscore*sum(x>0),meanscore*sum(x<0))\n",
    "})\n",
    "\n",
    "RS_matrix$MultiTumor_ALL_pan_clean = apply(RS_matrix[,setdiff(unique(datasets_overview$Cancer_type2),c(\"Pan-cancer\",\"Microsatellite-stable solid tumors\"))],1,function(x){\n",
    "    meanscore = mean(x)\n",
    "    ifelse(sign(meanscore) == 1,meanscore*sum(x>0),meanscore*sum(x<0))\n",
    "})\n",
    "\n",
    "RS_matrix$MultiTumor_ALL_pan_seq = apply(RS_matrix[,paste(unique(datasets_overview$Cancer_type2),\"seq\",sep = \"_\")],1,function(x){\n",
    "    meanscore = mean(x)\n",
    "    ifelse(sign(meanscore) == 1,meanscore*sum(x>0),meanscore*sum(x<0))\n",
    "})\n",
    "\n",
    "RS_matrix$MultiTumor_ALL_pan_clean_seq = apply(RS_matrix[,setdiff(paste(unique(datasets_overview$Cancer_type2),\"seq\",sep = \"_\"),\n",
    "                                                              c(\"Pan-cancer_seq\",\"Microsatellite-stable solid tumors_seq\"))],1,function(x){\n",
    "    meanscore = mean(x)\n",
    "    ifelse(sign(meanscore) == 1,meanscore*sum(x>0),meanscore*sum(x<0))\n",
    "})"
   ]
  },
  {
   "cell_type": "code",
   "execution_count": 89,
   "id": "bb08de81",
   "metadata": {},
   "outputs": [],
   "source": [
    "RS_matrix = RS_matrix[ order(RS_matrix$MultiTumor_ALL_pan_clean,decreasing = F),]"
   ]
  },
  {
   "cell_type": "code",
   "execution_count": 91,
   "id": "fba3ce67",
   "metadata": {},
   "outputs": [],
   "source": [
    "PFS_RS_matrix = RS_matrix"
   ]
  },
  {
   "cell_type": "code",
   "execution_count": 92,
   "id": "36f41fc2",
   "metadata": {},
   "outputs": [],
   "source": [
    "share_pathway = intersect(rownames(OS_RS_matrix),rownames(PFS_RS_matrix))\n",
    "OS_RS_matrix2 = OS_RS_matrix[share_pathway,]\n",
    "OS_RS_matrix2$Overview = OS_RS_matrix[share_pathway,]$MultiTumor_ALL_pan_clean + PFS_RS_matrix[share_pathway,c(\"MultiTumor_ALL_pan_clean\")]\n",
    "OS_RS_matrix2 = OS_RS_matrix2[ order(OS_RS_matrix2$Overview),]"
   ]
  },
  {
   "cell_type": "code",
   "execution_count": 94,
   "id": "441b30c3",
   "metadata": {
    "scrolled": true
   },
   "outputs": [],
   "source": [
    "OS_RS_matrix2_0.2 = OS_RS_matrix2[grepl(\"GOBP\",rownames(OS_RS_matrix2)),]"
   ]
  },
  {
   "cell_type": "markdown",
   "id": "2da8b722",
   "metadata": {},
   "source": [
    "# 0.25"
   ]
  },
  {
   "cell_type": "markdown",
   "id": "fa620383",
   "metadata": {},
   "source": [
    "### OS"
   ]
  },
  {
   "cell_type": "code",
   "execution_count": 95,
   "id": "494454d1",
   "metadata": {},
   "outputs": [],
   "source": [
    "ref_single_significant = list()\n",
    "\n",
    "for(i in rownames(datasets_overview)[datasets_overview$Sequencing == \"WES\"]){\n",
    "        \n",
    "        tmp2 = ref_path_OS[[i]]\n",
    "        tmp2[\"top_3_gene(mutation)\"] = NULL\n",
    "        tmp2 = as.data.frame(apply(tmp2,2,as.numeric))\n",
    "        rownames(tmp2) = rownames(ref_path_OS[[i]])\n",
    "        tmp2 = tmp2[!is.na(tmp2$`Patient(Mutation)`) & !is.na(tmp2$`Patient(Wildtype)`),]\n",
    "        less_num = floor(unique(rowSums(tmp2[,c(\"Patient(Mutation)\",\"Patient(Wildtype)\")])) * 0.25) # 两个组至少包含的患者数是总人数的5%\n",
    "        if(less_num <3){less_num = 3}\n",
    "        tmp = tmp2[ tmp2$`Patient(Mutation)` >= less_num & tmp2$`Patient(Wildtype)` >= less_num,]\n",
    "#         tmp = tmp[ tmp$`Log_rank_test(OS)`<0.05 | tmp$`Wald_test(OS)` < 0.05,]  # 筛选P值小于0.05\n",
    "        if(nrow(tmp) != 0){\n",
    "            tmp$dataset = i\n",
    "            tmp$Cancer_type = datasets_overview[i,\"Cancer_type\"]\n",
    "            tmp$Cancer_type2 = datasets_overview[i,\"Cancer_type2\"]\n",
    "            tmp$gene = rownames(tmp)\n",
    "        }  \n",
    "        ref_single_significant[[i]] = tmp\n",
    "}"
   ]
  },
  {
   "cell_type": "code",
   "execution_count": 96,
   "id": "3ce7e97e",
   "metadata": {},
   "outputs": [],
   "source": [
    "tmp = vector()\n",
    "for(i in names(ref_single_significant)){\n",
    "    if(!i %in%  c(\"dataset5\",\"dataset7\",\"dataset13\",\"dataset16\",\"dataset1\",\"dataset3\",\"dataset6\") & nrow(ref_single_significant[[i]]) != 0){\n",
    "        tmp = rbind(tmp,ref_single_significant[[i]])\n",
    "    }\n",
    "    \n",
    "}"
   ]
  },
  {
   "cell_type": "code",
   "execution_count": 97,
   "id": "87fffa91",
   "metadata": {},
   "outputs": [],
   "source": [
    "tmp$RS = -log(x = tmp$`Wald_test(OS)`,20) * log10(tmp$`HR(OS)`)"
   ]
  },
  {
   "cell_type": "code",
   "execution_count": 98,
   "id": "ab211c9a",
   "metadata": {},
   "outputs": [],
   "source": [
    "RS_matrix = reshape2::dcast(data = tmp[,c(\"dataset\",\"RS\",\"gene\")],formula = gene~dataset,value.var = \"RS\",fill = 0)\n",
    "rownames(RS_matrix) = RS_matrix$gene\n",
    "RS_matrix$gene = NULL"
   ]
  },
  {
   "cell_type": "code",
   "execution_count": 99,
   "id": "e182209b",
   "metadata": {},
   "outputs": [],
   "source": [
    "# 每个瘤种为一个单位，计算单瘤种的数据集鲁棒性,为了让具有更多的数据集的瘤种在计算得分时，具有更高的赋值，所以计算平均数据集得分后，会乘以一个同方向数据集个数\n",
    "for(i in unique(datasets_overview$Cancer_type2)){\n",
    "    tmp_datasets = rownames(datasets_overview)[ datasets_overview$Cancer_type2 %in% i]\n",
    "    tmp_datasets = intersect(tmp_datasets,colnames(RS_matrix))\n",
    "    RS_matrix[[i]] = apply(X = RS_matrix[tmp_datasets],1,function(x){\n",
    "        meanscore = mean(x[x !=0 ])\n",
    "        meanscore2 = ifelse(sign(meanscore) == 1, meanscore*sum(x > 0 ),\n",
    "                          ifelse(sign(meanscore) == -1,meanscore*sum(x < 0 ),0))\n",
    "        \n",
    "        return(meanscore2)\n",
    "    })\n",
    "    RS_matrix[[i]][is.na(RS_matrix[[i]])] = 0\n",
    "}\n",
    "\n",
    "for(i in unique(datasets_overview$Cancer_type2)){\n",
    "    tmp_datasets = rownames(datasets_overview)[ datasets_overview$Cancer_type2 %in% i]\n",
    "    tmp_datasets = intersect(tmp_datasets,colnames(RS_matrix))\n",
    "    seq_weight = ifelse(datasets_overview[tmp_datasets,\"Sequencing\"] == \"Panel\",0.5,1)\n",
    "    cn = paste(i,\"seq\",sep = \"_\")\n",
    "    RS_matrix[[cn]] = apply(X = RS_matrix[tmp_datasets],1,function(x){\n",
    "#         meanscore = sum(x[ x != 0 ] * seq_weight[ x != 0 ])/sum( x != 0)\n",
    "        meanscore = mean(x[x != 0 ])\n",
    "        meanscore2 = ifelse(sign(meanscore) == 1,meanscore*sum(seq_weight[x>0]),meanscore*sum(seq_weight[x<0]))\n",
    "        \n",
    "        return(meanscore2)\n",
    "    })\n",
    "    RS_matrix[[cn]][is.na(RS_matrix[[cn]])] = 0\n",
    "}"
   ]
  },
  {
   "cell_type": "code",
   "execution_count": 100,
   "id": "10efe4c0",
   "metadata": {},
   "outputs": [],
   "source": [
    "# 简单的加和可能会导致某些在个别数据集上表现特别好的基因过分地增大了最后得分\n",
    "RS_matrix$MultiTumor_ALL_pan = apply(RS_matrix[,unique(datasets_overview$Cancer_type2)],1,function(x){\n",
    "    meanscore = mean(x)\n",
    "    ifelse(sign(meanscore) == 1,meanscore*sum(x>0),meanscore*sum(x<0))\n",
    "})\n",
    "\n",
    "RS_matrix$MultiTumor_ALL_pan_clean = apply(RS_matrix[,setdiff(unique(datasets_overview$Cancer_type2),c(\"Pan-cancer\",\"Microsatellite-stable solid tumors\"))],1,function(x){\n",
    "    meanscore = mean(x)\n",
    "    ifelse(sign(meanscore) == 1,meanscore*sum(x>0),meanscore*sum(x<0))\n",
    "})\n",
    "\n",
    "RS_matrix$MultiTumor_ALL_pan_seq = apply(RS_matrix[,paste(unique(datasets_overview$Cancer_type2),\"seq\",sep = \"_\")],1,function(x){\n",
    "    meanscore = mean(x)\n",
    "    ifelse(sign(meanscore) == 1,meanscore*sum(x>0),meanscore*sum(x<0))\n",
    "})\n",
    "\n",
    "RS_matrix$MultiTumor_ALL_pan_clean_seq = apply(RS_matrix[,setdiff(paste(unique(datasets_overview$Cancer_type2),\"seq\",sep = \"_\"),\n",
    "                                                              c(\"Pan-cancer_seq\",\"Microsatellite-stable solid tumors_seq\"))],1,function(x){\n",
    "    meanscore = mean(x)\n",
    "    ifelse(sign(meanscore) == 1,meanscore*sum(x>0),meanscore*sum(x<0))\n",
    "})"
   ]
  },
  {
   "cell_type": "code",
   "execution_count": 101,
   "id": "a3ebb6a5",
   "metadata": {},
   "outputs": [],
   "source": [
    "RS_matrix = RS_matrix[ order(RS_matrix$MultiTumor_ALL_pan_clean,decreasing = F),]"
   ]
  },
  {
   "cell_type": "code",
   "execution_count": 103,
   "id": "45ccf15d",
   "metadata": {},
   "outputs": [],
   "source": [
    "OS_RS_matrix = RS_matrix"
   ]
  },
  {
   "cell_type": "markdown",
   "id": "ddc973ca",
   "metadata": {},
   "source": [
    "### PFS"
   ]
  },
  {
   "cell_type": "code",
   "execution_count": 104,
   "id": "8550f24e",
   "metadata": {},
   "outputs": [],
   "source": [
    "ref_single_significant = list()\n",
    "\n",
    "for(i in rownames(datasets_overview)[datasets_overview$Sequencing == \"WES\"]){\n",
    "        \n",
    "        tmp2 = ref_path_PFS[[i]]\n",
    "        tmp2[\"top_3_gene(mutation)\"] = NULL\n",
    "        tmp2 = as.data.frame(apply(tmp2,2,as.numeric))\n",
    "        rownames(tmp2) = rownames(ref_path_PFS[[i]])\n",
    "        tmp2 = tmp2[!is.na(tmp2$`Patient(Mutation)`) & !is.na(tmp2$`Patient(Wildtype)`),]\n",
    "        less_num = floor(unique(rowSums(tmp2[,c(\"Patient(Mutation)\",\"Patient(Wildtype)\")])) * 0.25) # 两个组至少包含的患者数是总人数的5%\n",
    "        if(less_num <3){less_num = 3}\n",
    "        tmp = tmp2[ tmp2$`Patient(Mutation)` >= less_num & tmp2$`Patient(Wildtype)` >= less_num,]\n",
    "#         tmp = tmp[ tmp$`Log_rank_test(OS)`<0.05 | tmp$`Wald_test(OS)` < 0.05,]  # 筛选P值小于0.05\n",
    "        if(nrow(tmp) != 0){\n",
    "            tmp$dataset = i\n",
    "            tmp$Cancer_type = datasets_overview[i,\"Cancer_type\"]\n",
    "            tmp$Cancer_type2 = datasets_overview[i,\"Cancer_type2\"]\n",
    "            tmp$gene = rownames(tmp)\n",
    "        }  \n",
    "        ref_single_significant[[i]] = tmp\n",
    "}"
   ]
  },
  {
   "cell_type": "code",
   "execution_count": 105,
   "id": "24172275",
   "metadata": {},
   "outputs": [],
   "source": [
    "tmp = vector()\n",
    "for(i in names(ref_single_significant)){\n",
    "    if(!i %in%  c(\"dataset1.1\",\"dataset1.2\",\"dataset1.3\",\"dataset1.4\",\"dataset1.5\",\"dataset1.6\",\"dataset1.7\",\"dataset1.8\",\"dataset1.9\",\n",
    "                        \"dataset1\",\"dataset8\",\"dataset10\",\"dataset11\",\"dataset1\",\"dataset3\",\"dataset6\") & nrow(ref_single_significant[[i]]) != 0){\n",
    "        tmp = rbind(tmp,ref_single_significant[[i]])\n",
    "    }\n",
    "    \n",
    "}"
   ]
  },
  {
   "cell_type": "code",
   "execution_count": 106,
   "id": "dbe6add8",
   "metadata": {},
   "outputs": [],
   "source": [
    "tmp$RS = -log(x = tmp$`Wald_test(PFS)`,20) * log10(tmp$`HR(PFS)`)"
   ]
  },
  {
   "cell_type": "code",
   "execution_count": 107,
   "id": "7cfc24cd",
   "metadata": {},
   "outputs": [],
   "source": [
    "RS_matrix = reshape2::dcast(data = tmp[,c(\"dataset\",\"RS\",\"gene\")],formula = gene~dataset,value.var = \"RS\",fill = 0)\n",
    "rownames(RS_matrix) = RS_matrix$gene\n",
    "RS_matrix$gene = NULL"
   ]
  },
  {
   "cell_type": "code",
   "execution_count": 108,
   "id": "83652847",
   "metadata": {},
   "outputs": [],
   "source": [
    "# 每个瘤种为一个单位，计算单瘤种的数据集鲁棒性,为了让具有更多的数据集的瘤种在计算得分时，具有更高的赋值，所以计算平均数据集得分后，会乘以一个同方向数据集个数\n",
    "for(i in unique(datasets_overview$Cancer_type2)){\n",
    "    tmp_datasets = rownames(datasets_overview)[ datasets_overview$Cancer_type2 %in% i]\n",
    "    tmp_datasets = intersect(tmp_datasets,colnames(RS_matrix))\n",
    "    RS_matrix[[i]] = apply(X = RS_matrix[tmp_datasets],1,function(x){\n",
    "        meanscore = mean(x[x !=0 ])\n",
    "        meanscore2 = ifelse(sign(meanscore) == 1, meanscore*sum(x > 0 ),\n",
    "                          ifelse(sign(meanscore) == -1,meanscore*sum(x < 0 ),0))\n",
    "        \n",
    "        return(meanscore2)\n",
    "    })\n",
    "    RS_matrix[[i]][is.na(RS_matrix[[i]])] = 0\n",
    "}\n",
    "\n",
    "for(i in unique(datasets_overview$Cancer_type2)){\n",
    "    tmp_datasets = rownames(datasets_overview)[ datasets_overview$Cancer_type2 %in% i]\n",
    "    tmp_datasets = intersect(tmp_datasets,colnames(RS_matrix))\n",
    "    seq_weight = ifelse(datasets_overview[tmp_datasets,\"Sequencing\"] == \"Panel\",0.5,1)\n",
    "    cn = paste(i,\"seq\",sep = \"_\")\n",
    "    RS_matrix[[cn]] = apply(X = RS_matrix[tmp_datasets],1,function(x){\n",
    "#         meanscore = sum(x[ x != 0 ] * seq_weight[ x != 0 ])/sum( x != 0)\n",
    "        meanscore = mean(x[x != 0 ])\n",
    "        meanscore2 = ifelse(sign(meanscore) == 1,meanscore*sum(seq_weight[x>0]),meanscore*sum(seq_weight[x<0]))\n",
    "        \n",
    "        return(meanscore2)\n",
    "    })\n",
    "    RS_matrix[[cn]][is.na(RS_matrix[[cn]])] = 0\n",
    "}"
   ]
  },
  {
   "cell_type": "code",
   "execution_count": 109,
   "id": "8658f395",
   "metadata": {},
   "outputs": [],
   "source": [
    "# 简单的加和可能会导致某些在个别数据集上表现特别好的基因过分地增大了最后得分\n",
    "RS_matrix$MultiTumor_ALL_pan = apply(RS_matrix[,unique(datasets_overview$Cancer_type2)],1,function(x){\n",
    "    meanscore = mean(x)\n",
    "    ifelse(sign(meanscore) == 1,meanscore*sum(x>0),meanscore*sum(x<0))\n",
    "})\n",
    "\n",
    "RS_matrix$MultiTumor_ALL_pan_clean = apply(RS_matrix[,setdiff(unique(datasets_overview$Cancer_type2),c(\"Pan-cancer\",\"Microsatellite-stable solid tumors\"))],1,function(x){\n",
    "    meanscore = mean(x)\n",
    "    ifelse(sign(meanscore) == 1,meanscore*sum(x>0),meanscore*sum(x<0))\n",
    "})\n",
    "\n",
    "RS_matrix$MultiTumor_ALL_pan_seq = apply(RS_matrix[,paste(unique(datasets_overview$Cancer_type2),\"seq\",sep = \"_\")],1,function(x){\n",
    "    meanscore = mean(x)\n",
    "    ifelse(sign(meanscore) == 1,meanscore*sum(x>0),meanscore*sum(x<0))\n",
    "})\n",
    "\n",
    "RS_matrix$MultiTumor_ALL_pan_clean_seq = apply(RS_matrix[,setdiff(paste(unique(datasets_overview$Cancer_type2),\"seq\",sep = \"_\"),\n",
    "                                                              c(\"Pan-cancer_seq\",\"Microsatellite-stable solid tumors_seq\"))],1,function(x){\n",
    "    meanscore = mean(x)\n",
    "    ifelse(sign(meanscore) == 1,meanscore*sum(x>0),meanscore*sum(x<0))\n",
    "})"
   ]
  },
  {
   "cell_type": "code",
   "execution_count": 110,
   "id": "f9f41413",
   "metadata": {},
   "outputs": [],
   "source": [
    "RS_matrix = RS_matrix[ order(RS_matrix$MultiTumor_ALL_pan_clean,decreasing = F),]"
   ]
  },
  {
   "cell_type": "code",
   "execution_count": 112,
   "id": "fc322dd6",
   "metadata": {},
   "outputs": [],
   "source": [
    "PFS_RS_matrix = RS_matrix"
   ]
  },
  {
   "cell_type": "code",
   "execution_count": 113,
   "id": "6cb54c7f",
   "metadata": {},
   "outputs": [],
   "source": [
    "share_pathway = intersect(rownames(OS_RS_matrix),rownames(PFS_RS_matrix))\n",
    "OS_RS_matrix2 = OS_RS_matrix[share_pathway,]\n",
    "OS_RS_matrix2$Overview = OS_RS_matrix[share_pathway,]$MultiTumor_ALL_pan_clean + PFS_RS_matrix[share_pathway,c(\"MultiTumor_ALL_pan_clean\")]\n",
    "OS_RS_matrix2 = OS_RS_matrix2[ order(OS_RS_matrix2$Overview),]"
   ]
  },
  {
   "cell_type": "code",
   "execution_count": 115,
   "id": "47c27109",
   "metadata": {
    "scrolled": true
   },
   "outputs": [],
   "source": [
    "OS_RS_matrix2_0.25 = OS_RS_matrix2[grepl(\"GOBP\",rownames(OS_RS_matrix2)),]"
   ]
  },
  {
   "cell_type": "code",
   "execution_count": 168,
   "id": "804d60d8",
   "metadata": {
    "scrolled": true
   },
   "outputs": [
    {
     "data": {
      "image/png": "[encoded data removed]",
      "text/plain": [
       "plot without title"
      ]
     },
     "metadata": {
      "image/png": {
       "height": 720,
       "width": 720
      }
     },
     "output_type": "display_data"
    }
   ],
   "source": [
    "library(RColorBrewer)\n",
    "library(VennDiagram)\n",
    "\n",
    "options(repr.plot.height =12, repr.plot.width = 12)\n",
    "grid.draw(venn.diagram(\n",
    "              x = list(\n",
    "                \"5%\" = rownames(OS_RS_matrix2_0.05)[1:15],\n",
    "                \"10%\" = rownames(OS_RS_matrix2_0.1)[1:15],\n",
    "                \"15%\" = rownames(OS_RS_matrix2_0.15)[1:15],\n",
    "                \"20%\" = rownames(OS_RS_matrix2_0.2)[1:15],\n",
    "                \"25%\" = rownames(OS_RS_matrix2_0.25)[1:15]\n",
    "                                ),\n",
    "              filename = NULL,\n",
    "              fill = brewer.pal(5, \"Set1\")\n",
    "            ))"
   ]
  },
  {
   "cell_type": "code",
   "execution_count": 169,
   "id": "edea7121",
   "metadata": {
    "scrolled": true
   },
   "outputs": [
    {
     "data": {
      "text/plain": [
       "\n",
       "                             GOBP_CELLULAR_RESPONSE_TO_HEAT \n",
       "                                                          6 \n",
       "                            GOBP_POST_EMBRYONIC_DEVELOPMENT \n",
       "                                                          6 \n",
       "                   GOBP_REGULATION_OF_COMPLEMENT_ACTIVATION \n",
       "                                                          6 \n",
       "                  GOBP_REGULATION_OF_ORGANIC_ACID_TRANSPORT \n",
       "                                                          6 \n",
       "                                    GOBP_THYMUS_DEVELOPMENT \n",
       "                                                          6 \n",
       "                        GOBP_AMMONIUM_ION_METABOLIC_PROCESS \n",
       "                                                          4 \n",
       "                               GOBP_CHROMOSOME_CONDENSATION \n",
       "                                                          4 \n",
       "                            GOBP_NON_RECOMBINATIONAL_REPAIR \n",
       "                                                          4 \n",
       "                  GOBP_REGULATION_OF_LAMELLIPODIUM_ASSEMBLY \n",
       "                                                          4 \n",
       "                                      GOBP_RESPONSE_TO_HEAT \n",
       "                                                          4 \n",
       "                                    GOBP_RETINA_HOMEOSTASIS \n",
       "                                                          4 \n",
       "                                    GOBP_ARTERY_DEVELOPMENT \n",
       "                                                          3 \n",
       " GOBP_INSULIN_LIKE_GROWTH_FACTOR_RECEPTOR_SIGNALING_PATHWAY \n",
       "                                                          3 \n",
       "          GOBP_REGULATION_OF_CALCINEURIN_MEDIATED_SIGNALING \n",
       "                                                          3 \n",
       "                             GOBP_ANIMAL_ORGAN_REGENERATION \n",
       "                                                          2 \n",
       "                        GOBP_CALCINEURIN_MEDIATED_SIGNALING \n",
       "                                                          2 \n",
       "                                  GOBP_CHROMATIN_REMODELING \n",
       "                                                          2 \n",
       "                       GOBP_ENDOCHONDRAL_BONE_MORPHOGENESIS \n",
       "                                                          2 \n",
       "                             GOBP_POTASSIUM_ION_HOMEOSTASIS \n",
       "                                                          2 \n",
       "                       GOBP_PROTEIN_LOCALIZATION_TO_SYNAPSE \n",
       "                                                          2 \n",
       "                 GOBP_REGULATION_OF_LIPID_CATABOLIC_PROCESS \n",
       "                                                          2 \n",
       "                        GOBP_VENTRICULAR_SEPTUM_DEVELOPMENT \n",
       "                                                          2 \n",
       "                 GOBP_ANTERIOR_POSTERIOR_AXIS_SPECIFICATION \n",
       "                                                          1 \n",
       "                   GOBP_CELL_DIFFERENTIATION_IN_SPINAL_CORD \n",
       "                                                          1 \n",
       "                                GOBP_LAMELLIPODIUM_ASSEMBLY \n",
       "                                                          1 \n",
       "                   GOBP_LENS_DEVELOPMENT_IN_CAMERA_TYPE_EYE \n",
       "                                                          1 \n",
       "GOBP_POSITIVE_REGULATION_OF_PEPTIDYL_SERINE_PHOSPHORYLATION \n",
       "                                                          1 \n",
       "                      GOBP_POSITIVE_REGULATION_OF_SECRETION \n",
       "                                                          1 \n",
       "               GOBP_REGULATION_OF_CELLULAR_RESPONSE_TO_HEAT \n",
       "                                                          1 \n",
       "              GOBP_REGULATION_OF_MONONUCLEAR_CELL_MIGRATION \n",
       "                                                          1 \n",
       "                                GOBP_SODIUM_ION_HOMEOSTASIS \n",
       "                                                          1 \n",
       "                             GOBP_SPERMATID_DIFFERENTIATION \n",
       "                                                          1 \n",
       "                      GOBP_VENTRICULAR_SEPTUM_MORPHOGENESIS \n",
       "                                                          1 "
      ]
     },
     "metadata": {},
     "output_type": "display_data"
    }
   ],
   "source": [
    "sort(table(c(rownames(OS_RS_matrix2_0.05)[1:15],\n",
    "rownames(OS_RS_matrix2_0.1)[1:15],\n",
    "rownames(OS_RS_matrix2_0.15)[1:15],\n",
    "rownames(OS_RS_matrix2_0.2)[1:15],\n",
    "rownames(OS_RS_matrix2_0.25)[1:15],\n",
    "rownames(OS_RS_matrix2_0.3)[1:15])),decreasing = T)"
   ]
  }
 ],
 "metadata": {
  "kernelspec": {
   "display_name": "R",
   "language": "R",
   "name": "ir"
  },
  "language_info": {
   "codemirror_mode": "r",
   "file_extension": ".r",
   "mimetype": "text/x-r-source",
   "name": "R",
   "pygments_lexer": "r",
   "version": "4.0.5"
  }
 },
 "nbformat": 4,
 "nbformat_minor": 5
}
